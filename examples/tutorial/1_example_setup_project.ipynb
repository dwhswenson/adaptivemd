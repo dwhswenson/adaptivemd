{
 "cells": [
  {
   "cell_type": "markdown",
   "metadata": {},
   "source": [
    "### Imports"
   ]
  },
  {
   "cell_type": "code",
   "execution_count": 1,
   "metadata": {
    "collapsed": true
   },
   "outputs": [],
   "source": [
    "import sys, os"
   ]
  },
  {
   "cell_type": "markdown",
   "metadata": {},
   "source": [
    "Alright, let's load the package and pick the `Project` since we want to start a project"
   ]
  },
  {
   "cell_type": "code",
   "execution_count": 2,
   "metadata": {
    "collapsed": false
   },
   "outputs": [],
   "source": [
    "from adaptivemd import Project"
   ]
  },
  {
   "cell_type": "markdown",
   "metadata": {},
   "source": [
    "Let's open a project with a UNIQUE name. This will be the name used in the DB so make sure it is new and not too short. Opening a project will always create a non-existing project and reopen an exising one. You cannot chose between opening types as you would with a file. This is a precaution to not accidentally delete your project."
   ]
  },
  {
   "cell_type": "code",
   "execution_count": 3,
   "metadata": {
    "collapsed": true
   },
   "outputs": [],
   "source": [
    "# Use this to completely remove the example-worker project from the database.\n",
    "Project.delete('tutorial')"
   ]
  },
  {
   "cell_type": "code",
   "execution_count": 4,
   "metadata": {
    "collapsed": false
   },
   "outputs": [],
   "source": [
    "project = Project('tutorial')"
   ]
  },
  {
   "cell_type": "markdown",
   "metadata": {},
   "source": [
    "Now we have a handle for our project. First thing is to set it up to work on a resource."
   ]
  },
  {
   "cell_type": "markdown",
   "metadata": {},
   "source": [
    "### Set the resource"
   ]
  },
  {
   "cell_type": "markdown",
   "metadata": {},
   "source": [
    "What is a resource? A `Resource` specifies a shared filesystem with one or more clusteres attached to it. This can be your local machine or just a regular cluster or even a group of cluster that can access the same FS (like Titan, Eos and Rhea do).\n",
    "\n",
    "Once you have chosen your place to store your results this way it is set for the project and can (at least should) not be altered since all file references are made to match this resource. Currently you can use the Fu Berlin Allegro Cluster or run locally. There are two specific local adaptations that include already the path to your conda installation. This simplifies the use of `openmm` or `pyemma`."
   ]
  },
  {
   "cell_type": "markdown",
   "metadata": {},
   "source": [
    "Let us pick a local resource on a laptop for now."
   ]
  },
  {
   "cell_type": "code",
   "execution_count": 5,
   "metadata": {
    "collapsed": false
   },
   "outputs": [],
   "source": [
    "from adaptivemd import LocalCluster, AllegroCluster"
   ]
  },
  {
   "cell_type": "markdown",
   "metadata": {},
   "source": [
    "first pick your resource -- where you want to run your simulation. Local or on Allegro"
   ]
  },
  {
   "cell_type": "code",
   "execution_count": 6,
   "metadata": {
    "collapsed": false
   },
   "outputs": [],
   "source": [
    "resource = LocalCluster()"
   ]
  },
  {
   "cell_type": "markdown",
   "metadata": {},
   "source": [
    "Now you can add some additional paths, conda environment, etc, before we setup the project. This works by setting a special task `.wrapper` (see notebook 4 for more things to do)"
   ]
  },
  {
   "cell_type": "code",
   "execution_count": 7,
   "metadata": {
    "collapsed": false
   },
   "outputs": [
    {
     "data": {
      "text/plain": [
       "<adaptivemd.task.DummyTask at 0x10c247e10>"
      ]
     },
     "execution_count": 7,
     "metadata": {},
     "output_type": "execute_result"
    }
   ],
   "source": [
    "resource.wrapper"
   ]
  },
  {
   "cell_type": "markdown",
   "metadata": {},
   "source": [
    "In a nutshell, this dummy task has a `.pre` and `.post` list of commands you can add any command you want to be executed before every task you run."
   ]
  },
  {
   "cell_type": "code",
   "execution_count": 8,
   "metadata": {
    "collapsed": true
   },
   "outputs": [],
   "source": [
    "resource.wrapper.pre.append('echo \"Hello World\"')"
   ]
  },
  {
   "cell_type": "markdown",
   "metadata": {},
   "source": [
    "A task can also automatically add to the `PATH` variable, set environment variables and you can add conda environments"
   ]
  },
  {
   "cell_type": "code",
   "execution_count": 9,
   "metadata": {
    "collapsed": true
   },
   "outputs": [],
   "source": [
    "resource.wrapper.add_conda_env('my_env_python_27')"
   ]
  },
  {
   "cell_type": "code",
   "execution_count": 10,
   "metadata": {
    "collapsed": false
   },
   "outputs": [],
   "source": [
    "resource.wrapper.add_path('/x/y/z')"
   ]
  },
  {
   "cell_type": "code",
   "execution_count": 11,
   "metadata": {
    "collapsed": false
   },
   "outputs": [],
   "source": [
    "resource.wrapper.environment['CONDA'] = 'True'"
   ]
  },
  {
   "cell_type": "code",
   "execution_count": 12,
   "metadata": {
    "collapsed": false
   },
   "outputs": [
    {
     "name": "stdout",
     "output_type": "stream",
     "text": [
      "Task: DummyTask\n",
      "<pre>\n",
      "export PATH=/x/y/z:$PATH\n",
      "export CONDA=True\n",
      "echo \"Hello World\"\n",
      "</pre>\n",
      "<main />\n",
      "<post>\n",
      "</post>\n"
     ]
    }
   ],
   "source": [
    "print resource.wrapper.description"
   ]
  },
  {
   "cell_type": "markdown",
   "metadata": {},
   "source": [
    "Let's reset that now and just add a little comment"
   ]
  },
  {
   "cell_type": "code",
   "execution_count": 13,
   "metadata": {
    "collapsed": true
   },
   "outputs": [],
   "source": [
    "resource = LocalCluster()\n",
    "resource.wrapper.pre.append('# This is part of the adaptivemd tutorial')"
   ]
  },
  {
   "cell_type": "markdown",
   "metadata": {},
   "source": [
    "and finally initialize the project with this specific resource. This is done once for a project and should not be altered."
   ]
  },
  {
   "cell_type": "code",
   "execution_count": 14,
   "metadata": {
    "collapsed": false
   },
   "outputs": [],
   "source": [
    "project.initialize(resource)"
   ]
  },
  {
   "cell_type": "markdown",
   "metadata": {},
   "source": [
    "### Add `TaskGenerators`"
   ]
  },
  {
   "cell_type": "markdown",
   "metadata": {},
   "source": [
    "TaskGenerators are instances whose purpose is to create tasks to be executed. This is similar to the\n",
    "way Kernels work. A TaskGenerator will generate `Task` objects for you which will be translated into a `ComputeUnitDescription` and executed. In simple terms:\n",
    "\n",
    "**The task generator creates the bash scripts for you that run a simulation or run pyemma.**\n",
    "\n",
    "A task generator will be initialized with all parameters needed to make it work and it will now what needs to be staged to be used."
   ]
  },
  {
   "cell_type": "code",
   "execution_count": 15,
   "metadata": {
    "collapsed": true
   },
   "outputs": [],
   "source": [
    "from adaptivemd.engine.openmm import OpenMMEngine\n",
    "from adaptivemd.analysis.pyemma import PyEMMAAnalysis\n",
    "\n",
    "from adaptivemd import File, Directory"
   ]
  },
  {
   "cell_type": "markdown",
   "metadata": {},
   "source": [
    "#### The engine"
   ]
  },
  {
   "cell_type": "markdown",
   "metadata": {},
   "source": [
    "A task generator that will create jobs to run simulations. Currently it uses a little python script that will excute OpenMM. It requires conda to be added to the PATH variable or at least openmm to be installed on the cluster. If you setup your resource correctly then this should all happen automatically."
   ]
  },
  {
   "cell_type": "markdown",
   "metadata": {},
   "source": [
    "First we define a `File` object. These are used to represent files anywhere, on the cluster or your local application. `File` like any complex object in adaptivemd can have a `.name` attribute that makes them easier to find later."
   ]
  },
  {
   "cell_type": "code",
   "execution_count": 16,
   "metadata": {
    "collapsed": false
   },
   "outputs": [],
   "source": [
    "pdb_file = File('file://../files/alanine/alanine.pdb').named('initial_pdb').load()"
   ]
  },
  {
   "cell_type": "markdown",
   "metadata": {},
   "source": [
    "Here we used a special prefix that can point to specific locations. \n",
    "\n",
    "- `file://` points to files on your local machine. \n",
    "- `worker://` specifies files on the current working directory of the executing node. Usually these are temprary files for a single execution.\n",
    "- `shared://` specifies the root shared FS directory (e.g. `NO_BACKUP/` on Allegro) Use this to import and export files that are already on the cluster.\n",
    "- `staging://` a special scheduler specific directory where files are moved after they are completed on a node and should be used for later. Use this to relate to files that should be stored or reused. After you one excution is done you usually move all important files to this place.\n",
    "- `sandbox://` this should not concern you and is a special RP folder where all pilot/session folders are located."
   ]
  },
  {
   "cell_type": "markdown",
   "metadata": {},
   "source": [
    "The `.load()` at the end is important. It causes the `File` object to load the content of the file and if you save the `File` object, the actual file is stored with it. This way it can simply be rewritten on the cluster or anywhere else."
   ]
  },
  {
   "cell_type": "markdown",
   "metadata": {},
   "source": [
    "So let's do an example for an OpenMM engine. This is simply a small python script that makes OpenMM look like a executable. It run a simulation by providing an initial frame, OpenMM specific system.xml and integrator.xml files and some additional parameters like the platform name, how often to store simulation frames, etc."
   ]
  },
  {
   "cell_type": "code",
   "execution_count": 17,
   "metadata": {
    "collapsed": false
   },
   "outputs": [],
   "source": [
    "engine = OpenMMEngine(\n",
    "    pdb_file=pdb_file,\n",
    "    system_file=File('file://../files/alanine/system.xml').load(),\n",
    "    integrator_file=File('file://../files/alanine/integrator.xml').load(),\n",
    "    args='-r --report-interval 1 -p CPU'\n",
    ").named('openmm')"
   ]
  },
  {
   "cell_type": "markdown",
   "metadata": {},
   "source": [
    "We have now an OpenMMEngine which uses the previously made pdb `File` object and uses the location defined in there. The same for the OpenMM XML files and some args to run using the `CPU` kernel, etc.\n",
    "\n",
    "Last we name the engine `openmm` to find it later."
   ]
  },
  {
   "cell_type": "code",
   "execution_count": 18,
   "metadata": {
    "collapsed": false
   },
   "outputs": [
    {
     "data": {
      "text/plain": [
       "'openmm'"
      ]
     },
     "execution_count": 18,
     "metadata": {},
     "output_type": "execute_result"
    }
   ],
   "source": [
    "engine.name"
   ]
  },
  {
   "cell_type": "markdown",
   "metadata": {},
   "source": [
    "Next, we need to set the output types we want the engine to generate. We chose a stride of 10 for the `master` trajectory without selection and a second trajectory with only protein atoms and native stride.\n",
    "\n",
    "Note that the stride and all frame number ALWAYS refer to the native steps used in the engine. In out example the engine uses `2fs` time steps. So master stores every `20fs` and protein every `2fs`"
   ]
  },
  {
   "cell_type": "code",
   "execution_count": 19,
   "metadata": {
    "collapsed": true
   },
   "outputs": [],
   "source": [
    "engine.add_output_type('master', 'master.dcd', stride=10)\n",
    "engine.add_output_type('protein', 'protein.dcd', stride=1, selection='protein')"
   ]
  },
  {
   "cell_type": "markdown",
   "metadata": {},
   "source": [
    "#### The modeller"
   ]
  },
  {
   "cell_type": "markdown",
   "metadata": {},
   "source": [
    "The instance to compute an MSM model of existing trajectories that you pass it. It is initialized with a `.pdb` file that is used to create features between the $c_\\alpha$ atoms. This implementaton requires a PDB but in general this is not necessay. It is specific to my PyEMMAAnalysis show case."
   ]
  },
  {
   "cell_type": "code",
   "execution_count": 20,
   "metadata": {
    "collapsed": false
   },
   "outputs": [],
   "source": [
    "modeller = PyEMMAAnalysis(\n",
    "    engine=engine,\n",
    "    outtype='protein',\n",
    "    features={'add_inverse_distances': {'select_Backbone': None}}\n",
    ").named('pyemma')"
   ]
  },
  {
   "cell_type": "markdown",
   "metadata": {},
   "source": [
    "Again we name it `pyemma` for later reference."
   ]
  },
  {
   "cell_type": "markdown",
   "metadata": {},
   "source": [
    "The other two option chose which output type from the engine we want to analyse. We chose the protein trajectories since these are faster to load and have better time resolution.\n",
    "\n",
    "The features dict expresses which features to use. In our case use all inverse distances between backbone c_alpha atoms."
   ]
  },
  {
   "cell_type": "markdown",
   "metadata": {},
   "source": [
    "#### Add generators to project"
   ]
  },
  {
   "cell_type": "markdown",
   "metadata": {},
   "source": [
    "Next step is to add these to the project for later usage. We pick the `.generators` store and just add it. Consider a store to work like a `set()` in python. It contains objects only once and is not ordered. Therefore we need a name to find the objects later. Of course you can always iterate over all objects, but the order is not given.\n",
    "\n",
    "To be precise there is an order in the time of creation of the object, but it is only accurate to seconds and it really is the time it was created and not stored."
   ]
  },
  {
   "cell_type": "code",
   "execution_count": 21,
   "metadata": {
    "collapsed": false
   },
   "outputs": [],
   "source": [
    "project.generators.add(engine)\n",
    "project.generators.add(modeller)"
   ]
  },
  {
   "cell_type": "markdown",
   "metadata": {},
   "source": [
    "Note, that you cannot add the same engine twice. But if you create a new engine it will be considered different and hence you can store it again. "
   ]
  },
  {
   "cell_type": "code",
   "execution_count": 34,
   "metadata": {
    "collapsed": true
   },
   "outputs": [],
   "source": [
    "import bson"
   ]
  },
  {
   "cell_type": "code",
   "execution_count": 47,
   "metadata": {
    "collapsed": true
   },
   "outputs": [],
   "source": [
    "c = project.storage.files._document.find()"
   ]
  },
  {
   "cell_type": "code",
   "execution_count": 48,
   "metadata": {
    "collapsed": true
   },
   "outputs": [],
   "source": [
    "f = next(c)"
   ]
  },
  {
   "cell_type": "code",
   "execution_count": 50,
   "metadata": {
    "collapsed": false
   },
   "outputs": [
    {
     "data": {
      "text/plain": [
       "[u'task',\n",
       " u'created',\n",
       " u'_file',\n",
       " u'_time',\n",
       " u'_cls',\n",
       " u'_id',\n",
       " u'_obj_uuid',\n",
       " u'_dict']"
      ]
     },
     "execution_count": 50,
     "metadata": {},
     "output_type": "execute_result"
    }
   ],
   "source": [
    "f['_']"
   ]
  },
  {
   "cell_type": "code",
   "execution_count": 41,
   "metadata": {
    "collapsed": false
   },
   "outputs": [
    {
     "name": "stdout",
     "output_type": "stream",
     "text": [
      "zR\u0000\u0000\u0002_id\u0000%\u0000\u0000\u0000cc1664de-0fd2-11e7-b14c-000000000004\u0000\n",
      "task\u0000\u0001created\u0000�n���4�A\u0002_file\u0000�\"\u0000\u0000import argparse\n",
      "import ujson\n",
      "from sys import stdout, exit\n",
      "import socket\n",
      "import numpy as np\n",
      "import mdtraj as md\n",
      "\n",
      "from simtk.openmm.app import *\n",
      "from simtk.openmm import *\n",
      "import simtk.unit as u\n",
      "\n",
      "if __name__ == '__main__':\n",
      "\n",
      "    # add further auto options here\n",
      "    platform_properties = {\n",
      "        'CUDA': ['Cuda_Device_Index', 'Cuda_Precision', 'Cuda_Use_Cpu_Pme',\n",
      "                 'Cuda_Cuda_Compiler', 'Cuda_Temp_Directory', 'Cuda_Use_Blocking_Sync',\n",
      "                 'Cuda_Deterministic_Forces'],\n",
      "        'OpenCL': ['OpenCL_Device_Index', 'OpenCL_Precision', 'OpenCL_Use_Cpu_Pme',\n",
      "                   'OpenCL_OpenCL_Platform_Index'],\n",
      "        'CPU': ['CPU_Threads'],\n",
      "        'Reference': []\n",
      "    }\n",
      "\n",
      "    platform_names = [\n",
      "        Platform.getPlatform(no_platform).getName()\n",
      "        for no_platform in range(Platform.getNumPlatforms())]\n",
      "\n",
      "    parser = argparse.ArgumentParser(\n",
      "        description='Run an MD simulation using OpenMM')\n",
      "\n",
      "    parser.add_argument(\n",
      "        'output',\n",
      "        metavar='output/',\n",
      "        help='the output directory',\n",
      "        type=str)\n",
      "\n",
      "    parser.add_argument(\n",
      "        '-l', '--length', dest='length',\n",
      "        type=int, default=100, nargs='?',\n",
      "        help='the number of frames to be simulated')\n",
      "\n",
      "    parser.add_argument(\n",
      "        '--store-interval', dest='interval_store',\n",
      "        type=int, default=1, nargs='?',\n",
      "        help='store every nth interval')\n",
      "\n",
      "    parser.add_argument(\n",
      "        '--report-interval', dest='interval_report',\n",
      "        type=int, default=1, nargs='?',\n",
      "        help='report every nth interval')\n",
      "\n",
      "    parser.add_argument(\n",
      "        '-s', '--system', dest='system_xml',\n",
      "        type=str, default='system.xml', nargs='?',\n",
      "        help='the path to the system.xml file')\n",
      "\n",
      "    parser.add_argument(\n",
      "        '--restart', dest='restart',\n",
      "        type=str, default='', nargs='?',\n",
      "        help='the path to the restart file. If given the coordinates in the topology file '\n",
      "             'will be ignored.')\n",
      "\n",
      "    parser.add_argument(\n",
      "        '-i', '--integrator', dest='integrator_xml',\n",
      "        type=str, default='integrator.xml', nargs='?',\n",
      "        help='the path to the integrator.xml file')\n",
      "\n",
      "    parser.add_argument(\n",
      "        '-t', '--topology', dest='topology_pdb',\n",
      "        type=str, default='topology.pdb', nargs='?',\n",
      "        help='the path to the topology.pdb file')\n",
      "\n",
      "    parser.add_argument(\n",
      "        '-v', '--verbose',\n",
      "        dest='verbose', action='store_true',\n",
      "        default=False,\n",
      "        help='if set then text output is send to the ' +\n",
      "             'console.')\n",
      "\n",
      "    parser.add_argument(\n",
      "        '--types', dest='types',\n",
      "        type=str, default='', nargs='?',\n",
      "        help='alternative definition for output files and strides')\n",
      "\n",
      "    for p in platform_properties:\n",
      "        for v in platform_properties[p]:\n",
      "            p_name = (p + '_' + v)\n",
      "            parser.add_argument(\n",
      "                '--' + p_name.lower().replace('_', '-'),\n",
      "                dest=v.lower(), type=str,\n",
      "                default=\"\",\n",
      "                help=(\n",
      "                         'This will set the platform property `%s`. ' % p_name.replace('_', '') +\n",
      "                         'If not set the environment variable '\n",
      "                         '`%s` will be used instead. ' % p_name.upper()\n",
      "                     ) + '[NOT INSTALLED!]' if p not in platform_names else ''\n",
      "            )\n",
      "\n",
      "    parser.add_argument(\n",
      "        '-r', '--report',\n",
      "        dest='report', action='store_true',\n",
      "        default=False,\n",
      "        help='if set then a report is send to STDOUT')\n",
      "\n",
      "    parser.add_argument(\n",
      "        '-p', '--platform', dest='platform',\n",
      "        type=str, default='fastest', nargs='?',\n",
      "        help=('used platform. Currently allowed choices are ' +\n",
      "              ', '.join(['`%s`' % p if p in platform_names else '`(%s)`' % p\n",
      "                         for p in platform_properties.keys()]) +\n",
      "              ' but are machine and installation dependend'))\n",
      "\n",
      "    parser.add_argument(\n",
      "        '--temperature',\n",
      "        type=int, default=300,\n",
      "        help='temperature if not given in integrator xml')\n",
      "\n",
      "    args = parser.parse_args()\n",
      "\n",
      "    print 'GO...'\n",
      "\n",
      "    properties = None\n",
      "\n",
      "    if args.platform in platform_properties:\n",
      "        properties = {}\n",
      "        props = platform_properties[args.platform]\n",
      "        for v in props:\n",
      "            p_name = args.platform + '_' + v\n",
      "            value = os.environ.get(p_name.upper(), None)\n",
      "            if hasattr(args, p_name.lower()):\n",
      "                value = getattr(args, v.lower())\n",
      "\n",
      "            if value:\n",
      "                properties[\n",
      "                    args.platform + '_' + v.replace('_', '')\n",
      "                ] = value\n",
      "\n",
      "    if args.platform == 'fastest':\n",
      "        platform = None\n",
      "    else:\n",
      "        platform = Platform.getPlatformByName(args.platform)\n",
      "\n",
      "    print 'Reading PDB'\n",
      "\n",
      "    pdb = PDBFile(args.topology_pdb)\n",
      "\n",
      "    print 'Done'\n",
      "\n",
      "    with open(args.system_xml) as f:\n",
      "        system_xml = f.read()\n",
      "        system = XmlSerializer.deserialize(system_xml)\n",
      "\n",
      "    with open(args.integrator_xml) as f:\n",
      "        integrator_xml = f.read()\n",
      "        integrator = XmlSerializer.deserialize(integrator_xml)\n",
      "\n",
      "    print 'Initialize Simulation'\n",
      "\n",
      "    try:\n",
      "        simulation = Simulation(\n",
      "            pdb.topology,\n",
      "            system,\n",
      "            integrator,\n",
      "            platform,\n",
      "            properties\n",
      "        )\n",
      "    except Exception:\n",
      "        print('EXCEPTION', (socket.gethostname()))\n",
      "        raise\n",
      "\n",
      "    print 'Done.'\n",
      "\n",
      "    print('# platform used:', simulation.context.getPlatform().getName())\n",
      "\n",
      "    if args.verbose:\n",
      "        print('# platforms available')\n",
      "        for no_platform in range(Platform.getNumPlatforms()):\n",
      "            # noinspection PyCallByClass,PyTypeChecker\n",
      "            print('(%d) %s' % (no_platform, Platform.getPlatform(no_platform).getName()))\n",
      "\n",
      "        print(os.environ)\n",
      "\n",
      "        print(Platform.getPluginLoadFailures())\n",
      "        print(Platform.getDefaultPluginsDirectory())\n",
      "\n",
      "    if args.restart:\n",
      "        arr = np.load(args.restart)\n",
      "        simulation.context.setPositions(arr['positions'] * u.nanometers)\n",
      "        simulation.context.setVelocities(arr['velocities'] * u.nanometers/u.picosecond)\n",
      "        simulation.context.setPeriodicBoxVectors(*arr['box_vectors'] * u.nanometers)\n",
      "    else:\n",
      "        simulation.context.setPositions(pdb.positions)\n",
      "        pbv = pdb.getTopology().getPeriodicBoxVectors()\n",
      "        simulation.context.setPeriodicBoxVectors(*pbv)\n",
      "        # set velocities to temperature in integrator\n",
      "        try:\n",
      "            temperature = integrator.getTemperature()\n",
      "        except AttributeError:\n",
      "            assert args.temperature > 0\n",
      "            temperature = args.temperature * u.kelvin\n",
      "\n",
      "        print('# temperature:', temperature)\n",
      "\n",
      "        simulation.context.setVelocitiesToTemperature(temperature)\n",
      "\n",
      "    output = args.output\n",
      "\n",
      "    if args.types:\n",
      "        # seems like we have JSON\n",
      "        types_str = args.types.replace(\"'\", '\"')\n",
      "        print types_str\n",
      "        types = ujson.loads(types_str)\n",
      "        if isinstance(types, dict):\n",
      "            for name, opts in types.iteritems():\n",
      "                if 'filename' in opts and 'stride' in opts:\n",
      "                    output_file = os.path.join(output, opts['filename'])\n",
      "\n",
      "                    selection = opts['selection']\n",
      "                    if selection is not None:\n",
      "                        mdtraj_topology = md.Topology.from_openmm(pdb.topology)\n",
      "                        atom_subset = mdtraj_topology.select(selection)\n",
      "                    else:\n",
      "                        atom_subset = None\n",
      "\n",
      "                    simulation.reporters.append(\n",
      "                        md.reporters.DCDReporter(\n",
      "                            output_file, opts['stride'], atomSubset=atom_subset))\n",
      "\n",
      "                    print 'Writing stride %d to file `%s` with selection `%s`' % (\n",
      "                        opts['stride'], opts['filename'], opts['selection'])\n",
      "\n",
      "    else:\n",
      "        # use defaults from arguments\n",
      "        output_file = os.path.join(output, 'output.dcd')\n",
      "        simulation.reporters.append(\n",
      "            DCDReporter(output_file, args.interval_store))\n",
      "\n",
      "    if not args.restart:\n",
      "        # if not a restart write first frame\n",
      "        state = simulation.context.getState(getPositions=True)\n",
      "        for r in simulation.reporters:\n",
      "            r.report(simulation, state)\n",
      "\n",
      "    if args.report and args.verbose:\n",
      "        simulation.reporters.append(\n",
      "            StateDataReporter(\n",
      "                stdout,\n",
      "                args.interval_report,\n",
      "                step=True,\n",
      "                potentialEnergy=True,\n",
      "                temperature=True))\n",
      "\n",
      "    restart_file = os.path.join(output, 'restart.npz')\n",
      "\n",
      "    print('START SIMULATION')\n",
      "\n",
      "    simulation.step(args.length)\n",
      "\n",
      "    print('DONE')\n",
      "\n",
      "    state = simulation.context.getState(getPositions=True, getVelocities=True)\n",
      "    pbv = state.getPeriodicBoxVectors(asNumpy=True)\n",
      "    vel = state.getVelocities(asNumpy=True)\n",
      "    pos = state.getPositions(asNumpy=True)\n",
      "\n",
      "    np.savez(restart_file, positions=pos, box_vectors=pbv, velocities=vel, index=args.length)\n",
      "\n",
      "    print('Written to directory `%s`' % args.output)\n",
      "\n",
      "    exit(0)\n",
      "\u0000\u0010_time\u0000���X\u0002_cls\u0000\u0005\u0000\u0000\u0000File\u0000\u0002_obj_uuid\u0000%\u0000\u0000\u0000cc1664de-0fd2-11e7-b14c-000000000004\u0000\u0003_dict\u0000�.\u0000\u0000\u0002_file_\u0000u.\u0000\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\u0000\n",
      "resource\u0000\u0002location\u0000\\\u0000\u0000\u0000file:///Users/jan-hendrikprinz/Studium/git/adaptivemd/adaptivemd/engine/openmm/openmmrun.py\u0000\u0000\u0000\n"
     ]
    }
   ],
   "source": [
    "for f in c:\n",
    "    print bson.BSON.encode(f)\n",
    "    break"
   ]
  },
  {
   "cell_type": "code",
   "execution_count": null,
   "metadata": {
    "collapsed": true
   },
   "outputs": [],
   "source": [
    "print "
   ]
  },
  {
   "cell_type": "code",
   "execution_count": 46,
   "metadata": {
    "collapsed": false
   },
   "outputs": [
    {
     "data": {
      "text/plain": [
       "['ACTIVE_LONG',\n",
       " 'CREATION_COUNT',\n",
       " 'INSTANCE_UUID',\n",
       " '__add__',\n",
       " '__class__',\n",
       " '__delattr__',\n",
       " '__dict__',\n",
       " '__doc__',\n",
       " '__eq__',\n",
       " '__format__',\n",
       " '__getattribute__',\n",
       " '__hash__',\n",
       " '__init__',\n",
       " '__module__',\n",
       " '__new__',\n",
       " '__radd__',\n",
       " '__reduce__',\n",
       " '__reduce_ex__',\n",
       " '__repr__',\n",
       " '__setattr__',\n",
       " '__sizeof__',\n",
       " '__store__',\n",
       " '__str__',\n",
       " '__subclasshook__',\n",
       " '__time__',\n",
       " '__uuid__',\n",
       " '__weakref__',\n",
       " '_args',\n",
       " '_base',\n",
       " '_complete_target',\n",
       " '_exclude_private_attr',\n",
       " '_excluded_attr',\n",
       " '_file',\n",
       " '_find_by',\n",
       " '_ignore',\n",
       " '_included_attr',\n",
       " '_restore_name',\n",
       " '_restore_non_initial_attr',\n",
       " 'allowed_drives',\n",
       " 'args',\n",
       " 'base',\n",
       " 'base_cls',\n",
       " 'base_cls_name',\n",
       " 'basename',\n",
       " 'basename_short',\n",
       " 'clone',\n",
       " 'cls',\n",
       " 'copy',\n",
       " 'create',\n",
       " 'created',\n",
       " 'default_drive',\n",
       " 'descendants',\n",
       " 'dirname',\n",
       " 'drive',\n",
       " 'exists',\n",
       " 'extension',\n",
       " 'from_dict',\n",
       " 'generator',\n",
       " 'get_file',\n",
       " 'get_uuid',\n",
       " 'has_file',\n",
       " 'idx',\n",
       " 'is_folder',\n",
       " 'is_temp',\n",
       " 'link',\n",
       " 'load',\n",
       " 'location',\n",
       " 'modified',\n",
       " 'move',\n",
       " 'named',\n",
       " 'objects',\n",
       " 'path',\n",
       " 'remove',\n",
       " 'resource',\n",
       " 'resource_location',\n",
       " 'set_file',\n",
       " 'short',\n",
       " 'split',\n",
       " 'split_drive',\n",
       " 'task',\n",
       " 'to_dict',\n",
       " 'touch',\n",
       " 'transfer',\n",
       " 'url',\n",
       " 'use_absolute_local_paths']"
      ]
     },
     "execution_count": 46,
     "metadata": {},
     "output_type": "execute_result"
    }
   ],
   "source": [
    "dir(f)"
   ]
  },
  {
   "cell_type": "code",
   "execution_count": 45,
   "metadata": {
    "collapsed": false
   },
   "outputs": [
    {
     "name": "stdout",
     "output_type": "stream",
     "text": [
      "False\n",
      "8917\n",
      "['location', 'resource', '__uuid__', '__store__', '__time__']\n",
      "False\n",
      "134220\n",
      "['resource', 'name', 'location', '__time__', '__store__', '__uuid__']\n",
      "False\n",
      "165\n",
      "['location', 'resource', '__uuid__', '__store__', '__time__']\n",
      "False\n",
      "320102\n",
      "['location', 'resource', '__uuid__', '__store__', '__time__']\n",
      "False\n",
      "680\n",
      "['location', 'resource', '__uuid__', '__store__', '__time__']\n"
     ]
    }
   ],
   "source": [
    "for f in project.files:\n",
    "    print hasattr(f, '_file_')\n",
    "    print len(f._file) if f._file else ''\n",
    "    print f.__dict__.keys()\n",
    "#     print len(f._file_) if f._file else ''"
   ]
  },
  {
   "cell_type": "code",
   "execution_count": null,
   "metadata": {
    "collapsed": true
   },
   "outputs": [],
   "source": [
    "f._file"
   ]
  },
  {
   "cell_type": "markdown",
   "metadata": {},
   "source": [
    "### Create one intial trajectory"
   ]
  },
  {
   "cell_type": "markdown",
   "metadata": {},
   "source": [
    "Finally we are ready to run a first trajectory that we will store as a point of reference in the project. Also it is nice to see how it works in general."
   ]
  },
  {
   "cell_type": "markdown",
   "metadata": {},
   "source": [
    "We are using a _Worker_ approach. This means simply that someone (in our case the user from inside a script or a notebook) creates a list of tasks to be done and some other instance (the worker) will actually do the work."
   ]
  },
  {
   "cell_type": "markdown",
   "metadata": {},
   "source": [
    "#### Create a `Trajectory` object"
   ]
  },
  {
   "cell_type": "markdown",
   "metadata": {},
   "source": [
    "First we create the parameters for the engine to run the simulation. Since it seemed appropriate we use a `Trajectory` object (a special `File` with initial frame and length) as the input. You could of course pass these things separately, but this way, we can actualy reference the no yet existing trajectory and do stuff with it."
   ]
  },
  {
   "cell_type": "markdown",
   "metadata": {},
   "source": [
    "A Trajectory should have a unique name and so there is a project function to get you one. It uses numbers and makes sure that this number has not been used yet in the project."
   ]
  },
  {
   "cell_type": "code",
   "execution_count": 22,
   "metadata": {
    "collapsed": false
   },
   "outputs": [
    {
     "data": {
      "text/plain": [
       "Trajectory('alanine.pdb' >> [0..100])"
      ]
     },
     "execution_count": 22,
     "metadata": {},
     "output_type": "execute_result"
    }
   ],
   "source": [
    "trajectory = project.new_trajectory(engine['pdb_file'], 100, engine)\n",
    "trajectory"
   ]
  },
  {
   "cell_type": "markdown",
   "metadata": {},
   "source": [
    "This says, initial is `alanine.pdb` run for 100 frames and is named `xxxxxxxx.dcd`."
   ]
  },
  {
   "cell_type": "markdown",
   "metadata": {
    "collapsed": true
   },
   "source": [
    "#### Create a `Task` object"
   ]
  },
  {
   "cell_type": "markdown",
   "metadata": {},
   "source": [
    "Now, we want that this trajectory actually exists so we have to make it. This requires a `Task` object that _knows_ to describe a simulation. Since `Task` objects are very flexible and can be complex there are helper functions (i.e. factories) to get these in an easy manner, like the ones we already created just before. Let's use the openmm engine to create an openmm task now."
   ]
  },
  {
   "cell_type": "code",
   "execution_count": 23,
   "metadata": {
    "collapsed": false
   },
   "outputs": [],
   "source": [
    "task = engine.run(trajectory)"
   ]
  },
  {
   "cell_type": "markdown",
   "metadata": {},
   "source": [
    "As an alternative you can directly use the trajectory (which knows its engine) and call `.run()`"
   ]
  },
  {
   "cell_type": "code",
   "execution_count": 24,
   "metadata": {
    "collapsed": true
   },
   "outputs": [],
   "source": [
    "task = trajectory.run()"
   ]
  },
  {
   "cell_type": "markdown",
   "metadata": {},
   "source": [
    "That's it, just take a trajectory description and turn it into a task that contains the shell commands and needed files, etc. "
   ]
  },
  {
   "cell_type": "markdown",
   "metadata": {},
   "source": [
    "#### Submit the task to the queue"
   ]
  },
  {
   "cell_type": "markdown",
   "metadata": {},
   "source": [
    "Finally we need to add this task to the things we want to be done. This is easy and only requires saving the task to the project. This is done to the `project.tasks` bundle and once it has been stored it can be picked up by any worker to execute it."
   ]
  },
  {
   "cell_type": "code",
   "execution_count": 25,
   "metadata": {
    "collapsed": false
   },
   "outputs": [],
   "source": [
    "project.queue(task)  # shortcut for project.tasks.add(task)"
   ]
  },
  {
   "cell_type": "markdown",
   "metadata": {},
   "source": [
    "That is all we can do from here. To execute the tasks you need to run a worker using\n",
    "\n",
    "```bash\n",
    "adaptivemdworker -l tutorial --verbose\n",
    "```"
   ]
  },
  {
   "cell_type": "markdown",
   "metadata": {},
   "source": [
    "Once this is done, come back here and check your results. If you want you can execute the next cell which will block until the task has been completed."
   ]
  },
  {
   "cell_type": "code",
   "execution_count": 26,
   "metadata": {
    "collapsed": false
   },
   "outputs": [
    {
     "name": "stdout",
     "output_type": "stream",
     "text": [
      "<StoredBundle for with 6 file(s) @ 0x112f1f390>\n",
      "<ViewBundle for with 0 file(s) @ 0x112f1f690>\n"
     ]
    }
   ],
   "source": [
    "print project.files\n",
    "print project.trajectories"
   ]
  },
  {
   "cell_type": "markdown",
   "metadata": {},
   "source": [
    "and close the project."
   ]
  },
  {
   "cell_type": "code",
   "execution_count": 27,
   "metadata": {
    "collapsed": false
   },
   "outputs": [],
   "source": [
    "project.close()"
   ]
  },
  {
   "cell_type": "markdown",
   "metadata": {
    "collapsed": true
   },
   "source": [
    "The final project.close() will close the DB connection. "
   ]
  },
  {
   "cell_type": "code",
   "execution_count": null,
   "metadata": {
    "collapsed": true
   },
   "outputs": [],
   "source": []
  }
 ],
 "metadata": {
  "anaconda-cloud": {},
  "kernelspec": {
   "display_name": "Python 2",
   "language": "python",
   "name": "python2"
  },
  "language_info": {
   "codemirror_mode": {
    "name": "ipython",
    "version": 2
   },
   "file_extension": ".py",
   "mimetype": "text/x-python",
   "name": "python",
   "nbconvert_exporter": "python",
   "pygments_lexer": "ipython2",
   "version": "2.7.13"
  }
 },
 "nbformat": 4,
 "nbformat_minor": 1
}
