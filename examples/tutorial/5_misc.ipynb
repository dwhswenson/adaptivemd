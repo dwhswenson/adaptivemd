{
 "cells": [
  {
   "cell_type": "markdown",
   "metadata": {},
   "source": [
    "# AdaptiveMD\n",
    "\n",
    "## Example 5 - Working with projects"
   ]
  },
  {
   "cell_type": "markdown",
   "metadata": {},
   "source": [
    "### 0. Imports"
   ]
  },
  {
   "cell_type": "code",
   "execution_count": 1,
   "metadata": {
    "collapsed": true
   },
   "outputs": [],
   "source": [
    "import sys, os"
   ]
  },
  {
   "cell_type": "code",
   "execution_count": 2,
   "metadata": {
    "collapsed": false
   },
   "outputs": [],
   "source": [
    "from adaptivemd import Project, Event, FunctionalEvent, Trajectory, RestartFile"
   ]
  },
  {
   "cell_type": "markdown",
   "metadata": {},
   "source": [
    "Let's open our `test` project by its name. If you completed the previous example this should all work out of the box."
   ]
  },
  {
   "cell_type": "code",
   "execution_count": 3,
   "metadata": {
    "collapsed": false
   },
   "outputs": [],
   "source": [
    "project = Project('example-worker')"
   ]
  },
  {
   "cell_type": "markdown",
   "metadata": {},
   "source": [
    "Open all connections to the `MongoDB` and `Session` so we can get started."
   ]
  },
  {
   "cell_type": "markdown",
   "metadata": {},
   "source": [
    "Let's see where we are. These numbers will depend on whether you run this notebook for the first time or just continue again. Unless you delete your project it will accumulate models and files over time, as is our ultimate goal."
   ]
  },
  {
   "cell_type": "code",
   "execution_count": 4,
   "metadata": {
    "collapsed": false
   },
   "outputs": [
    {
     "name": "stdout",
     "output_type": "stream",
     "text": [
      "<StoredBundle with 78 file(s) @ 0x10f08e4d0>\n",
      "<ViewBundle with 49 file(s) @ 0x10f08e590>\n",
      "<StoredBundle with 16 file(s) @ 0x10f08e410>\n"
     ]
    }
   ],
   "source": [
    "print project.tasks\n",
    "\n",
    "print project.trajectories\n",
    "print project.models"
   ]
  },
  {
   "cell_type": "markdown",
   "metadata": {},
   "source": [
    "Now restore our old ways to generate tasks by loading the previously used generators."
   ]
  },
  {
   "cell_type": "code",
   "execution_count": 5,
   "metadata": {
    "collapsed": false
   },
   "outputs": [],
   "source": [
    "engine = project.generators['openmm']\n",
    "modeller = project.generators['pyemma']\n",
    "pdb_file = project.files['initial_pdb']"
   ]
  },
  {
   "cell_type": "markdown",
   "metadata": {},
   "source": [
    "### 1. Task Analysis"
   ]
  },
  {
   "cell_type": "code",
   "execution_count": 6,
   "metadata": {
    "collapsed": false
   },
   "outputs": [
    {
     "name": "stdout",
     "output_type": "stream",
     "text": [
      "Task: PyEMMAAnalysis [created]\n",
      "\n",
      "Required : []\n",
      "Output : []\n",
      "Modified : []\n",
      "\n",
      "<pretask>\n",
      "Transfer('file://{}/_rpc_input_d0dfa6e7-4e4e-48ba-903c-f1f4c7cf7cd3.json' > 'worker://input.json)\n",
      "Link('staging:///_run_.py' > 'worker://_run_.py)\n",
      "Link('staging:///alanine.pdb' > 'worker://input.pdb)\n",
      "python _run_.py\n",
      "Transfer('worker://output.json' > 'file://{}/_rpc_output_d0dfa6e7-4e4e-48ba-903c-f1f4c7cf7cd3.json)\n",
      "<posttask>\n"
     ]
    }
   ],
   "source": [
    "print project.tasks.one.description"
   ]
  },
  {
   "cell_type": "code",
   "execution_count": 7,
   "metadata": {
    "collapsed": false
   },
   "outputs": [
    {
     "name": "stdout",
     "output_type": "stream",
     "text": [
      "Added file PythonTask\n"
     ]
    }
   ],
   "source": [
    "task = modeller.task_run_msm_files(list(project.trajectories)[0:10])\n",
    "project.queue(task)"
   ]
  },
  {
   "cell_type": "code",
   "execution_count": 44,
   "metadata": {
    "collapsed": false
   },
   "outputs": [
    {
     "name": "stdout",
     "output_type": "stream",
     "text": [
      "Stevie.fritz.box down None None\n"
     ]
    }
   ],
   "source": [
    "w = project.workers.last\n",
    "print w.hostname, w.state, w.command, w.current"
   ]
  },
  {
   "cell_type": "code",
   "execution_count": 42,
   "metadata": {
    "collapsed": false
   },
   "outputs": [
    {
     "name": "stdout",
     "output_type": "stream",
     "text": [
      "failed to create file before staging worker://output.dcd\n",
      "failed to create file before staging worker://output.json\n",
      "failed to create file before staging worker://output.json\n",
      "failed to create file before staging worker://output.json\n"
     ]
    }
   ],
   "source": [
    "for l in  project.logs:\n",
    "    if l.title == 'execution error':\n",
    "        print l.message"
   ]
  },
  {
   "cell_type": "code",
   "execution_count": 20,
   "metadata": {
    "collapsed": true
   },
   "outputs": [],
   "source": [
    "from adaptivemd.generator import rpc_exec"
   ]
  },
  {
   "cell_type": "code",
   "execution_count": 22,
   "metadata": {
    "collapsed": false
   },
   "outputs": [
    {
     "data": {
      "text/plain": [
       "'/Users/jan-hendrikprinz/Studium/git/adaptive-sampling/package/adaptivemd/scripts/_run_.py'"
      ]
     },
     "execution_count": 22,
     "metadata": {},
     "output_type": "execute_result"
    }
   ],
   "source": [
    "rpc_exec.path"
   ]
  },
  {
   "cell_type": "code",
   "execution_count": 19,
   "metadata": {
    "collapsed": false
   },
   "outputs": [
    {
     "name": "stdout",
     "output_type": "stream",
     "text": [
      "file://{}/_run_.py \"\"\"\n",
      "Python script for the RPC Python call for Adaptive MD\n",
      "\n",
      "This executes a function remotely and expects an `input.json` file to contain\n",
      "a reference to the function and module as well as arguments and keyword arguments\n",
      "\"\"\"\n",
      "\n",
      "\n",
      "import importlib\n",
      "from adaptivemd.mongodb import ObjectJSON\n",
      "\n",
      "simplifier = ObjectJSON()\n",
      "\n",
      "with open('input.json', 'r') as f:\n",
      "    data = simplifier.from_json(f.read())\n",
      "\n",
      "parts = data['function'].split('.')\n",
      "\n",
      "fnc = importlib.import_module('.'.join(parts[:-1]))\n",
      "\n",
      "fnc = getattr(fnc, parts[-1])\n",
      "\n",
      "result = fnc(*data['args'], **data['kwargs'])\n",
      "\n",
      "with open('output.json', 'w') as f:\n",
      "    f.write(simplifier.to_json(result))\n",
      "\n"
     ]
    }
   ],
   "source": [
    "for f in project.files:\n",
    "    if f.basename == '_run_.py':\n",
    "        print f.short, f.get_file()"
   ]
  },
  {
   "cell_type": "code",
   "execution_count": 23,
   "metadata": {
    "collapsed": true
   },
   "outputs": [],
   "source": [
    "import subprocess"
   ]
  },
  {
   "cell_type": "code",
   "execution_count": 55,
   "metadata": {
    "collapsed": false
   },
   "outputs": [
    {
     "name": "stdout",
     "output_type": "stream",
     "text": [
      "Overwriting test.sh\n"
     ]
    }
   ],
   "source": [
    "%%file test.sh\n",
    "export\n",
    "echo $FILE"
   ]
  },
  {
   "cell_type": "code",
   "execution_count": 62,
   "metadata": {
    "collapsed": false
   },
   "outputs": [],
   "source": [
    "q = subprocess.Popen(['/bin/bash', 'test.sh'], stdout=subprocess.PIPE)"
   ]
  },
  {
   "cell_type": "code",
   "execution_count": 63,
   "metadata": {
    "collapsed": true
   },
   "outputs": [],
   "source": [
    "stdout_value = q.communicate()[0]"
   ]
  },
  {
   "cell_type": "code",
   "execution_count": 64,
   "metadata": {
    "collapsed": false
   },
   "outputs": [
    {
     "name": "stdout",
     "output_type": "stream",
     "text": [
      "declare -x Apple_PubSub_Socket_Render=\"/private/tmp/com.apple.launchd.1sh4m1KkVa/Render\"\n",
      "declare -x CLICOLOR=\"1\"\n",
      "declare -x DISPLAY=\"/private/tmp/com.apple.launchd.TYmY93GPXR/org.macosforge.xquartz:0\"\n",
      "declare -x GIT_PAGER=\"cat\"\n",
      "declare -x GREP_OPTIONS=\"--color=auto\"\n",
      "declare -x HOME=\"/Users/jan-hendrikprinz\"\n",
      "declare -x JPY_PARENT_PID=\"5251\"\n",
      "declare -x LANG=\"de_DE.UTF-8\"\n",
      "declare -x LOGNAME=\"jan-hendrikprinz\"\n",
      "declare -x LSCOLORS=\"GxFxCxDxBxegedabagaced\"\n",
      "declare -x MPLBACKEND=\"module://ipykernel.pylab.backend_inline\"\n",
      "declare -x OLDPWD\n",
      "declare -x OPENMM_DIR=\"/Users/jan-hendrikprinz/anaconda/pkgs/openmm-7.0.1-py27_0\"\n",
      "declare -x OPENMM_INCLUDE_PATH=\"/Users/jan-hendrikprinz/anaconda/pkgs/openmm-7.0.1-py27_0/include\"\n",
      "declare -x OPENMM_LIB_PATH=\"/Users/jan-hendrikprinz/anaconda/pkgs/openmm-7.0.1-py27_0/lib\"\n",
      "declare -x OPENMM_PLUGIN_DIR=\"/Users/jan-hendrikprinz/anaconda/pkgs/openmm-7.0.1-py27_0/lib/plugins\"\n",
      "declare -x PAGER=\"cat\"\n",
      "declare -x PATH=\"/Users/jan-hendrikprinz/anaconda/bin:/Users/jan-hendrikprinz/anaconda/bin:/Library/Frameworks/Python.framework/Versions/Current/bin:/opt/local/bin:/usr/texbin:/usr/local/bin:/usr/bin:/bin:/usr/sbin:/sbin:/opt/X11/bin:/Applications/Server.app/Contents/ServerRoot/usr/bin:/Applications/Server.app/Contents/ServerRoot/usr/sbin:/usr/local/git/bin:/Library/TeX/texbin:/usr/local/sbin\"\n",
      "declare -x PWD=\"/Users/jan-hendrikprinz/Studium/git/adaptive-sampling/package/examples/tutorial\"\n",
      "declare -x PYTHONPATH=\"/usr/local/lib/python2.7/site-packages:\"\n",
      "declare -x RADICAL_PILOT_DBURL=\"mongodb://localhost:27017/rp\"\n",
      "declare -x RADICAL_PILOT_VERBOSE=\"REPORT\"\n",
      "declare -x SERVERPIPE=\"/Users/jan-hendrikprinz/Library/Application Support/LyX-2.0/\"\n",
      "declare -x SHELL=\"/bin/bash\"\n",
      "declare -x SHLVL=\"2\"\n",
      "declare -x SPHINXOPTS=\"-j 8 \"\n",
      "declare -x SSH_AUTH_SOCK=\"/private/tmp/com.apple.launchd.w4lMpKty7O/Listeners\"\n",
      "declare -x SVN_EDITOR=\"vi\"\n",
      "declare -x TERM=\"xterm-color\"\n",
      "declare -x TERM_PROGRAM=\"Apple_Terminal\"\n",
      "declare -x TERM_PROGRAM_VERSION=\"388\"\n",
      "declare -x TERM_SESSION_ID=\"827E0DD2-403E-41E7-AD6F-A7B709F7001C\"\n",
      "declare -x TMPDIR=\"/var/folders/qy/53f6tddn1lj84l83b_lq_38r0000gn/T/\"\n",
      "declare -x USER=\"jan-hendrikprinz\"\n",
      "declare -x XPC_FLAGS=\"0x0\"\n",
      "declare -x XPC_SERVICE_NAME=\"0\"\n",
      "declare -x _=\"/Users/jan-hendrikprinz/anaconda/bin/jupyter\"\n",
      "declare -x __CF_USER_TEXT_ENCODING=\"0x1F5:0x0:0x3\"\n",
      "\n",
      "\n"
     ]
    }
   ],
   "source": [
    "print stdout_value"
   ]
  },
  {
   "cell_type": "markdown",
   "metadata": {},
   "source": [
    "### 1. Run simulations"
   ]
  },
  {
   "cell_type": "code",
   "execution_count": 10,
   "metadata": {
    "collapsed": false
   },
   "outputs": [],
   "source": [
    "task = project.tasks.one"
   ]
  },
  {
   "cell_type": "code",
   "execution_count": 17,
   "metadata": {
    "collapsed": false
   },
   "outputs": [
    {
     "data": {
      "text/plain": [
       "[False]"
      ]
     },
     "execution_count": 17,
     "metadata": {},
     "output_type": "execute_result"
    }
   ],
   "source": [
    "[t.source for t in task.output_staging]"
   ]
  },
  {
   "cell_type": "markdown",
   "metadata": {},
   "source": [
    "Before we talk about adaptivity, let's have a look at possibilities to generate trajectories.\n",
    "\n",
    "We assume that you successfully ran a first trajectory using a worker. Next, we talk about lot's of ways to generate new trajectories."
   ]
  },
  {
   "cell_type": "markdown",
   "metadata": {},
   "source": [
    "#### Trajectories from a pdb\n",
    "\n",
    "You will do this in the beginning. Remember we already have a PDB stored from setting up the engine. if you want to start from this configuration do as before\n",
    "\n",
    "1. get the trajectory you want\n",
    "2. make a task\n",
    "3. submit the task"
   ]
  },
  {
   "cell_type": "markdown",
   "metadata": {},
   "source": [
    "##### The `Trajectory` object"
   ]
  },
  {
   "cell_type": "code",
   "execution_count": 7,
   "metadata": {
    "collapsed": false
   },
   "outputs": [],
   "source": [
    "file_name = next(project.traj_name)\n",
    "\n",
    "trajectory = Trajectory(\n",
    "    location=file_name,                          # this creates a new filename\n",
    "    frame=pdb_file,                              # initial frame is the PDB\n",
    "    length=100,                                  # length is 100 frames\n",
    "    restart=RestartFile(file_name + '.restart')  # save also the .restart file\n",
    ")"
   ]
  },
  {
   "cell_type": "markdown",
   "metadata": {},
   "source": [
    "Since this is tedious to write there is a shortcut"
   ]
  },
  {
   "cell_type": "code",
   "execution_count": 8,
   "metadata": {
    "collapsed": true
   },
   "outputs": [],
   "source": [
    "trajectory = project.new_trajectory(\n",
    "    frame=pdb_file,\n",
    "    length=100,\n",
    "    restart=True,     # if True it will create the RestartFile(`{}.restart`)\n",
    "    number=1          # if more then one you get a list of trajectories\n",
    ")"
   ]
  },
  {
   "cell_type": "markdown",
   "metadata": {},
   "source": [
    "##### The `Task` object"
   ]
  },
  {
   "cell_type": "code",
   "execution_count": 9,
   "metadata": {
    "collapsed": true
   },
   "outputs": [],
   "source": [
    "task_run = engine.task_run_trajectory(trajectory)"
   ]
  },
  {
   "cell_type": "markdown",
   "metadata": {},
   "source": [
    "This was easy, but we can do some interesting stuff. Since we know the trajectory will exist now we can also extend by some frames."
   ]
  },
  {
   "cell_type": "code",
   "execution_count": 10,
   "metadata": {
    "collapsed": false
   },
   "outputs": [],
   "source": [
    "task_extend = engine.task_extend_trajectory(trajectory, 50)"
   ]
  },
  {
   "cell_type": "markdown",
   "metadata": {},
   "source": [
    "The only problem is to make sure the tasks are run in the correct order. This would not be a problem if the worker will run tasks in the order they are place in the queue, but that defeats the purpose of parallel runs. Therefore an extended tasks knows that is depends on the existance of the source trajectory. The worker will hence only run a trajectory, once the source exists."
   ]
  },
  {
   "cell_type": "code",
   "execution_count": 11,
   "metadata": {
    "collapsed": false
   },
   "outputs": [
    {
     "name": "stdout",
     "output_type": "stream",
     "text": [
      "Added file TrajectoryGenerationTask\n",
      "Added file TrajectoryExtensionTask\n"
     ]
    }
   ],
   "source": [
    "project.queue(task_run, task_extend)"
   ]
  },
  {
   "cell_type": "markdown",
   "metadata": {},
   "source": [
    "#### Check the results"
   ]
  },
  {
   "cell_type": "markdown",
   "metadata": {},
   "source": [
    "For a seconds let's see if everything went fine."
   ]
  },
  {
   "cell_type": "code",
   "execution_count": 12,
   "metadata": {
    "collapsed": false
   },
   "outputs": [
    {
     "name": "stdout",
     "output_type": "stream",
     "text": [
      "/projects/example-worker/trajs/00000000.dcd 100\n",
      "/projects/example-worker/trajs/00000001.dcd 150\n"
     ]
    }
   ],
   "source": [
    "for t in project.trajectories:\n",
    "    print t.path, t.length"
   ]
  },
  {
   "cell_type": "markdown",
   "metadata": {},
   "source": [
    "If this works, then you should see one 100 frame trajectory from the setup (first example) and a second 150 length trajectory that we just generated by running 100 frames and extending it by another 50.\n",
    "\n",
    "If not, there might be a problem or (more likely) the tasks are not finished yet. Just try the above cell again and see if it changes to the expected output."
   ]
  },
  {
   "cell_type": "markdown",
   "metadata": {},
   "source": [
    "Let's do something stupid and produce an error by using a wrong initial pdb file."
   ]
  },
  {
   "cell_type": "code",
   "execution_count": 13,
   "metadata": {
    "collapsed": false
   },
   "outputs": [
    {
     "name": "stdout",
     "output_type": "stream",
     "text": [
      "Added file TrajectoryGenerationTask\n"
     ]
    }
   ],
   "source": [
    "trajectory = project.new_trajectory(engine['system_file'], 100)\n",
    "task = engine.task_run_trajectory(trajectory)\n",
    "project.queue(task)"
   ]
  },
  {
   "cell_type": "code",
   "execution_count": 14,
   "metadata": {
    "collapsed": false
   },
   "outputs": [
    {
     "name": "stdout",
     "output_type": "stream",
     "text": [
      "/projects/example-worker/trajs/00000000.dcd 100\n",
      "/projects/example-worker/trajs/00000001.dcd 150\n"
     ]
    }
   ],
   "source": [
    "for t in project.trajectories:\n",
    "    print t.path, t.length"
   ]
  },
  {
   "cell_type": "markdown",
   "metadata": {},
   "source": [
    "Well, nothing changed obviously and we expect it to fail. So let's inspect what happened."
   ]
  },
  {
   "cell_type": "code",
   "execution_count": 15,
   "metadata": {
    "collapsed": false
   },
   "outputs": [
    {
     "data": {
      "text/plain": [
       "u'created'"
      ]
     },
     "execution_count": 15,
     "metadata": {},
     "output_type": "execute_result"
    }
   ],
   "source": [
    "task.state"
   ]
  },
  {
   "cell_type": "markdown",
   "metadata": {},
   "source": [
    "It failed, well, we kind of knew that. No suprise here, but why? Let's look at the stdout and stderr"
   ]
  },
  {
   "cell_type": "code",
   "execution_count": 16,
   "metadata": {
    "collapsed": false
   },
   "outputs": [
    {
     "name": "stdout",
     "output_type": "stream",
     "text": [
      "None\n"
     ]
    }
   ],
   "source": [
    "print task.stdout"
   ]
  },
  {
   "cell_type": "code",
   "execution_count": 17,
   "metadata": {
    "collapsed": false
   },
   "outputs": [
    {
     "name": "stdout",
     "output_type": "stream",
     "text": [
      "None\n"
     ]
    }
   ],
   "source": [
    "print task.stderr"
   ]
  },
  {
   "cell_type": "markdown",
   "metadata": {},
   "source": [
    "We see, what we expect. In `openmmrun.py` the openmm executable it could not load the pdb file. \n",
    "\n",
    "> *NOTE* If your worker dies for some reason, it will not set a STDOUT or STDERR. If you think that your task should be able to execute, then you can do `task.state = 'created'` and reset it to be accessible to workers. This is NOT recommended, just to explain how this works. Of course you need a new worker anyway."
   ]
  },
  {
   "cell_type": "markdown",
   "metadata": {},
   "source": [
    "#### What else\n",
    "\n",
    "If you have the trajectory object and want to just create the trajectory, you can also put this in the queue. A `Task` object is generated for you, BUT you will have no direct access to the task as in this example. Do whatever you need"
   ]
  },
  {
   "cell_type": "code",
   "execution_count": 19,
   "metadata": {
    "collapsed": false
   },
   "outputs": [
    {
     "name": "stdout",
     "output_type": "stream",
     "text": [
      "Added file TrajectoryGenerationTask\n"
     ]
    }
   ],
   "source": [
    "project.queue(project.new_trajectory(pdb_file, 100))"
   ]
  },
  {
   "cell_type": "markdown",
   "metadata": {},
   "source": [
    "### Trajectories from other trajectories"
   ]
  },
  {
   "cell_type": "markdown",
   "metadata": {},
   "source": [
    "This will be the most common case. At least in any remote kind of adaptivity you will not start always from the same position or extend. You want to pick any exisiting frame and continue from there. So, let's do that."
   ]
  },
  {
   "cell_type": "markdown",
   "metadata": {},
   "source": [
    "First we get a trajectory. Every bundle in the project (e.g. `.trajectories`, `.models`, `.files`, `.tasks`) acts like an enhanced set. You can iterate over all entries as we did before, and you can get one element, which usually is the first stored, but not always. For now that is enough"
   ]
  },
  {
   "cell_type": "code",
   "execution_count": 21,
   "metadata": {
    "collapsed": false
   },
   "outputs": [
    {
     "name": "stdout",
     "output_type": "stream",
     "text": [
      "/projects/example-worker/trajs/00000000.dcd 100\n"
     ]
    }
   ],
   "source": [
    "trajectory = project.trajectories.one\n",
    "print trajectory.path, len(trajectory)"
   ]
  },
  {
   "cell_type": "markdown",
   "metadata": {},
   "source": [
    "Good, at least 100 frames. We pick, say, frame at index 28 (which is the 29th frame, we start counting at zero) using the way you pick an element from a python list (which is almost what a `Trajectory` represents, a list of frames)"
   ]
  },
  {
   "cell_type": "code",
   "execution_count": 24,
   "metadata": {
    "collapsed": false
   },
   "outputs": [
    {
     "name": "stdout",
     "output_type": "stream",
     "text": [
      "Frame(00000000.dcd[28])\n"
     ]
    }
   ],
   "source": [
    "frame = trajectory[28]\n",
    "print frame"
   ]
  },
  {
   "cell_type": "markdown",
   "metadata": {},
   "source": [
    "To run a trajectory just use the frame as the initial frame."
   ]
  },
  {
   "cell_type": "code",
   "execution_count": 28,
   "metadata": {
    "collapsed": false
   },
   "outputs": [
    {
     "name": "stdout",
     "output_type": "stream",
     "text": [
      "Added file TrajectoryGenerationTask\n"
     ]
    }
   ],
   "source": [
    "trajectory = project.new_trajectory(frame, 100)\n",
    "task = engine.task_run_trajectory(trajectory)\n",
    "project.queue(task)"
   ]
  },
  {
   "cell_type": "markdown",
   "metadata": {},
   "source": [
    "Btw, you can wait until something happens using `project.wait_until(condition)`. This is not so useful in notebooks, but in scripts it does. `condition` here is a function that evaluates to `True` or `False`. it will be tested in regular intervals and once it is `True` the function returns."
   ]
  },
  {
   "cell_type": "code",
   "execution_count": 29,
   "metadata": {
    "collapsed": false
   },
   "outputs": [],
   "source": [
    "project.wait_until(task.is_done)"
   ]
  },
  {
   "cell_type": "markdown",
   "metadata": {},
   "source": [
    "Each `Task` has a function `is_done` that you can use. It will return once a task is done. That means it either failed or succeeded or was cancelled. Basically when it is not queued anymore."
   ]
  },
  {
   "cell_type": "markdown",
   "metadata": {},
   "source": [
    "If you want to run adaptively, _all you need to do_ is to figure out where to start new simulations from and use the methods provided to run these."
   ]
  },
  {
   "cell_type": "markdown",
   "metadata": {},
   "source": [
    "### `Model` tasks"
   ]
  },
  {
   "cell_type": "markdown",
   "metadata": {},
   "source": [
    "A model generating task work similar to trajectories. You create the generator with options (so far, this will become more complex in the future) and then you create a `Task` from passing it a list of trajectories to be analyzed."
   ]
  },
  {
   "cell_type": "code",
   "execution_count": 52,
   "metadata": {
    "collapsed": false
   },
   "outputs": [
    {
     "name": "stdout",
     "output_type": "stream",
     "text": [
      "Added file PythonTask\n"
     ]
    }
   ],
   "source": [
    "task = modeller.task_run_msm_files(list(project.trajectories))\n",
    "project.queue(task)"
   ]
  },
  {
   "cell_type": "code",
   "execution_count": 53,
   "metadata": {
    "collapsed": false
   },
   "outputs": [
    {
     "name": "stdout",
     "output_type": "stream",
     "text": [
      "<adaptivemd.model.Model object at 0x10ef38250>\n"
     ]
    }
   ],
   "source": [
    "for m in project.models:\n",
    "    print m"
   ]
  },
  {
   "cell_type": "markdown",
   "metadata": {},
   "source": [
    "So we generated one model. The `Model` objects contain (in the base version) only a `.data` attribute which is a dictionary of information about the generated model."
   ]
  },
  {
   "cell_type": "code",
   "execution_count": 56,
   "metadata": {
    "collapsed": false
   },
   "outputs": [
    {
     "data": {
      "text/plain": [
       "['clustering', 'input', 'msm', 'tica']"
      ]
     },
     "execution_count": 56,
     "metadata": {},
     "output_type": "execute_result"
    }
   ],
   "source": [
    "model = project.models.one\n",
    "model.data.keys()"
   ]
  },
  {
   "cell_type": "code",
   "execution_count": 57,
   "metadata": {
    "collapsed": false
   },
   "outputs": [
    {
     "name": "stdout",
     "output_type": "stream",
     "text": [
      "[[  8.83248730e-01   3.77172257e-02   0.00000000e+00   6.95497425e-02\n",
      "    9.48430165e-03]\n",
      " [  3.68854736e-02   9.20529799e-01   0.00000000e+00   4.25847272e-02\n",
      "    0.00000000e+00]\n",
      " [  0.00000000e+00   0.00000000e+00   8.94736839e-01   1.05263161e-01\n",
      "    0.00000000e+00]\n",
      " [  4.07748643e-02   2.55290847e-02   7.82122887e-02   8.54748601e-01\n",
      "    7.35161132e-04]\n",
      " [  8.61682481e-02   0.00000000e+00   0.00000000e+00   1.13927206e-02\n",
      "    9.02439031e-01]]\n"
     ]
    }
   ],
   "source": [
    "print model.data['msm']['P']"
   ]
  },
  {
   "cell_type": "markdown",
   "metadata": {},
   "source": [
    "### Pick frames automatically"
   ]
  },
  {
   "cell_type": "markdown",
   "metadata": {},
   "source": [
    "The last thing that is implemented is a function that can utilize models to decide which frames are better to start from. The simplest one will use the counts per state, take the inverse and use this as a distribution."
   ]
  },
  {
   "cell_type": "code",
   "execution_count": 64,
   "metadata": {
    "collapsed": false
   },
   "outputs": [
    {
     "data": {
      "text/plain": [
       "[Frame(00000008.dcd[99]),\n",
       " Frame(00000001.dcd[88]),\n",
       " Frame(00000001.dcd[99]),\n",
       " Frame(00000000.dcd[85])]"
      ]
     },
     "execution_count": 64,
     "metadata": {},
     "output_type": "execute_result"
    }
   ],
   "source": [
    "project.find_ml_next_frame(4)"
   ]
  },
  {
   "cell_type": "markdown",
   "metadata": {},
   "source": [
    "So you can pick states according to the newest (last) model. (This will be moved to the Brain). And since we want trajectories with these frames as starting points there is also a function for that"
   ]
  },
  {
   "cell_type": "code",
   "execution_count": 65,
   "metadata": {
    "collapsed": false
   },
   "outputs": [
    {
     "data": {
      "text/plain": [
       "[Trajectory(Frame(00000001.dcd[102]) >> 00000013.dcd[0..100]),\n",
       " Trajectory(Frame(00000000.dcd[69]) >> 00000014.dcd[0..100]),\n",
       " Trajectory(Frame(00000000.dcd[17]) >> 00000015.dcd[0..100]),\n",
       " Trajectory(Frame(00000001.dcd[95]) >> 00000016.dcd[0..100])]"
      ]
     },
     "execution_count": 65,
     "metadata": {},
     "output_type": "execute_result"
    }
   ],
   "source": [
    "trajectories = project.new_ml_trajectory(length=100, number=4)\n",
    "trajectories"
   ]
  },
  {
   "cell_type": "markdown",
   "metadata": {},
   "source": [
    "Let's submit these before we finish this notebook with a quick discussion of workers"
   ]
  },
  {
   "cell_type": "code",
   "execution_count": 66,
   "metadata": {
    "collapsed": false
   },
   "outputs": [
    {
     "name": "stdout",
     "output_type": "stream",
     "text": [
      "Added file TrajectoryGenerationTask\n",
      "Added file TrajectoryGenerationTask\n",
      "Added file TrajectoryGenerationTask\n",
      "Added file TrajectoryGenerationTask\n"
     ]
    }
   ],
   "source": [
    "project.queue(trajectories)"
   ]
  },
  {
   "cell_type": "markdown",
   "metadata": {},
   "source": [
    "That's it."
   ]
  },
  {
   "cell_type": "markdown",
   "metadata": {},
   "source": [
    "### What about workers"
   ]
  },
  {
   "cell_type": "markdown",
   "metadata": {},
   "source": [
    "Worker are the instances that execute tasks for you. If you did not stop the worker it will still be running and you can check its state"
   ]
  },
  {
   "cell_type": "code",
   "execution_count": 35,
   "metadata": {
    "collapsed": true
   },
   "outputs": [],
   "source": [
    "from adaptivemd import DT"
   ]
  },
  {
   "cell_type": "markdown",
   "metadata": {},
   "source": [
    "DT is a little helper to convert time stamps into something readable."
   ]
  },
  {
   "cell_type": "code",
   "execution_count": 68,
   "metadata": {
    "collapsed": false
   },
   "outputs": [
    {
     "name": "stdout",
     "output_type": "stream",
     "text": [
      "[down:23:23:50] Stevie.fritz.box:/Users/jan-hendrikprinz runs `['openmm']` tasks\n",
      "[down:23:14:55] Stevie.fritz.box:/Users/jan-hendrikprinz runs `['openmm']` tasks\n",
      "[running:23:44:11] Stevie.fritz.box:/Users/jan-hendrikprinz runs `None` tasks\n"
     ]
    }
   ],
   "source": [
    "for w in project.workers:\n",
    "    print '[%s:%s] %s:%s runs `%s` tasks' % (w.state, DT(w.seen).time, w.hostname, w.cwd, w.generators)"
   ]
  },
  {
   "cell_type": "markdown",
   "metadata": {},
   "source": [
    "Okay, the worker is running, was last reporting its heartbeat at ... and has a hostname and current working directory (where it was executed from). The generators specify which tasks from some generators are executed. If it is `None` then the worker runs all tasks it finds. You can use this to run specific workers for models and some for trajectory generation."
   ]
  },
  {
   "cell_type": "markdown",
   "metadata": {},
   "source": [
    "You can also controle it remotely by sending it a command. `shutdown` will shut it down for you."
   ]
  },
  {
   "cell_type": "code",
   "execution_count": 50,
   "metadata": {
    "collapsed": true
   },
   "outputs": [],
   "source": [
    "# project.workers.last.command = 'shutdown'"
   ]
  },
  {
   "cell_type": "markdown",
   "metadata": {},
   "source": [
    "Afterwards you need to restart you worker to continue."
   ]
  },
  {
   "cell_type": "code",
   "execution_count": 69,
   "metadata": {
    "collapsed": true
   },
   "outputs": [],
   "source": [
    "project.close()"
   ]
  },
  {
   "cell_type": "code",
   "execution_count": null,
   "metadata": {
    "collapsed": true
   },
   "outputs": [],
   "source": []
  }
 ],
 "metadata": {
  "anaconda-cloud": {},
  "kernelspec": {
   "display_name": "Python 2",
   "language": "python",
   "name": "python2"
  },
  "language_info": {
   "codemirror_mode": {
    "name": "ipython",
    "version": 2
   },
   "file_extension": ".py",
   "mimetype": "text/x-python",
   "name": "python",
   "nbconvert_exporter": "python",
   "pygments_lexer": "ipython2",
   "version": "2.7.13"
  }
 },
 "nbformat": 4,
 "nbformat_minor": 1
}
