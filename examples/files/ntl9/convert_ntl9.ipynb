{
 "cells": [
  {
   "cell_type": "code",
   "execution_count": 3,
   "metadata": {
    "collapsed": true
   },
   "outputs": [],
   "source": [
    "# OpenMM Imports\n",
    "import simtk.openmm as mm\n",
    "import simtk.openmm.app as app\n",
    "\n",
    "# ParmEd Imports\n",
    "from parmed import load_file\n",
    "from parmed.openmm.reporters import NetCDFReporter\n",
    "from parmed import unit as u\n",
    "from parmed import gromacs"
   ]
  },
  {
   "cell_type": "code",
   "execution_count": 5,
   "metadata": {
    "collapsed": true
   },
   "outputs": [],
   "source": [
    "gromacs.GROMACS_TOPDIR = \"/Users/jan-hendrikprinz/Studium/git/adaptive-sampling/package/examples/ntl9/top\""
   ]
  },
  {
   "cell_type": "code",
   "execution_count": 6,
   "metadata": {
    "collapsed": false
   },
   "outputs": [
    {
     "name": "stdout",
     "output_type": "stream",
     "text": [
      "Loading Gromacs files...\n"
     ]
    }
   ],
   "source": [
    "# Load the Gromacs files\n",
    "print('Loading Gromacs files...')\n",
    "top = load_file('files/topol-NTL9.top')\n",
    "gro = load_file('files/start-NTL9.gro')"
   ]
  },
  {
   "cell_type": "code",
   "execution_count": 8,
   "metadata": {
    "collapsed": false
   },
   "outputs": [],
   "source": [
    "gro.write_pdb('files/initial.pdb')"
   ]
  },
  {
   "cell_type": "code",
   "execution_count": null,
   "metadata": {
    "collapsed": true
   },
   "outputs": [],
   "source": [
    "# Create the OpenMM system\n",
    "print('Creating OpenMM System')\n",
    "system = top.createSystem(nonbondedMethod=app.NoCutoff,\n",
    "                          constraints=app.HBonds, implicitSolvent=app.GBn2,\n",
    "                          implicitSolventSaltConc=0.1*u.moles/u.liter,\n",
    ")\n",
    "\n",
    "# Create the integrator to do Langevin dynamics\n",
    "integrator = mm.LangevinIntegrator(\n",
    "                        300*u.kelvin,       # Temperature of heat bath\n",
    "                        1.0/u.picoseconds,  # Friction coefficient\n",
    "                        2.0*u.femtoseconds, # Time step\n",
    ")\n",
    "\n",
    "# Define the platform to use; CUDA, OpenCL, CPU, or Reference. Or do not specify\n",
    "# the platform to use the default (fastest) platform\n",
    "platform = mm.Platform.getPlatformByName('CUDA')\n",
    "prop = dict(CudaPrecision='mixed') # Use mixed single/double precision\n",
    "\n",
    "# Create the Simulation object\n",
    "sim = app.Simulation(top.topology, system, integrator, platform, prop)\n",
    "\n",
    "# Set the particle positions\n",
    "sim.context.setPositions(gro.positions)\n",
    "\n",
    "# Minimize the energy\n",
    "print('Minimizing energy')\n",
    "sim.minimizeEnergy(maxIterations=500)\n",
    "\n",
    "# Set up the reporters to report energies and coordinates every 100 steps\n",
    "sim.reporters.append(\n",
    "        app.StateDataReporter(sys.stdout, 100, step=True, potentialEnergy=True,\n",
    "                              kineticEnergy=True, temperature=True)\n",
    ")\n",
    "sim.reporters.append(\n",
    "        NetCDFReporter('dhfr_gb.nc', 100, crds=True)\n",
    ")\n",
    "\n",
    "# Run dynamics\n",
    "print('Running dynamics')\n",
    "sim.step(10000)"
   ]
  },
  {
   "cell_type": "code",
   "execution_count": 3,
   "metadata": {
    "collapsed": false
   },
   "outputs": [],
   "source": [
    "traj = md.formats.GroTrajectoryFile('files/start-NTL9.gro')"
   ]
  },
  {
   "cell_type": "code",
   "execution_count": 5,
   "metadata": {
    "collapsed": false
   },
   "outputs": [
    {
     "data": {
      "text/plain": [
       "<mdtraj.Topology with 1 chains, 4540 residues, 14100 atoms, 0 bonds at 0x10d5350d0>"
      ]
     },
     "execution_count": 5,
     "metadata": {},
     "output_type": "execute_result"
    }
   ],
   "source": [
    "traj.topology"
   ]
  },
  {
   "cell_type": "code",
   "execution_count": null,
   "metadata": {
    "collapsed": true
   },
   "outputs": [],
   "source": []
  }
 ],
 "metadata": {
  "anaconda-cloud": {},
  "kernelspec": {
   "display_name": "Python [default]",
   "language": "python",
   "name": "python2"
  }
 },
 "nbformat": 4,
 "nbformat_minor": 1
}
