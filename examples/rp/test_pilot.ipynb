{
 "cells": [
  {
   "cell_type": "code",
   "execution_count": 1,
   "metadata": {
    "collapsed": false,
    "scrolled": true
   },
   "outputs": [
    {
     "name": "stderr",
     "output_type": "stream",
     "text": [
      "/Users/jan-hendrikprinz/anaconda/lib/python2.7/site-packages/radical/utils/atfork/stdlib_fixer.py:58: UserWarning: logging module already imported before fixup.\n",
      "  warnings.warn('logging module already imported before fixup.')\n",
      "/Users/jan-hendrikprinz/anaconda/lib/python2.7/site-packages/radical/utils/atfork/stdlib_fixer.py:65: UserWarning: logging handlers already registered.\n",
      "  warnings.warn('logging handlers already registered.')\n"
     ]
    }
   ],
   "source": [
    "import sys, os\n",
    "\n",
    "# verbose = os.environ.get('RADICAL_PILOT_VERBOSE', 'REPORT')\n",
    "os.environ['RADICAL_PILOT_VERBOSE'] = 'ERROR'\n",
    "\n",
    "from adaptivemd import (\n",
    "    OpenMMEngine,\n",
    "    AllegroCluster,\n",
    "    Project,\n",
    "    Brain,\n",
    "    File, Directory,\n",
    "    PyEMMAAnalysis,\n",
    "    Event, FunctionalEvent,\n",
    "    LocalJHP, LocalSheep)\n",
    "\n",
    "import numpy as np"
   ]
  },
  {
   "cell_type": "markdown",
   "metadata": {},
   "source": [
    "Let's open a project with a UNIQUE name. This will be the name used in the DB so make sure it is new."
   ]
  },
  {
   "cell_type": "code",
   "execution_count": 2,
   "metadata": {
    "collapsed": false
   },
   "outputs": [],
   "source": [
    "project = Project('test')"
   ]
  },
  {
   "cell_type": "markdown",
   "metadata": {},
   "source": [
    "Set up the project and pick a resource. This should be done only the first time, when the project is created."
   ]
  },
  {
   "cell_type": "code",
   "execution_count": 3,
   "metadata": {
    "collapsed": true
   },
   "outputs": [],
   "source": [
    "# use the resource specified as argument, fall back to localhost\n",
    "# resource_id = 'local.jhp'\n",
    "\n",
    "# if resource_id == 'local.jhp':\n",
    "#     project.initialize(LocalJHP)\n",
    "# elif resource_id == 'local.sheep':\n",
    "#     project.initialize(LocalSheep)\n",
    "# elif resource_id == 'fub.allegro':\n",
    "#     project.initialize(AllegroCluster)"
   ]
  },
  {
   "cell_type": "markdown",
   "metadata": {},
   "source": [
    "### TaskGenerators"
   ]
  },
  {
   "cell_type": "markdown",
   "metadata": {},
   "source": [
    "TaskGenerators are instances whose purpose is to create tasks to be executed. This is similar to the\n",
    "way Kernels work. A TaskGenerator will generate `Task` objects for you which will be translated into a `ComputeUnitDescription` and executed.\n",
    "\n",
    "A task generator will be initialized with all parameters needed to make it work and it will now what needs to be staged to be used."
   ]
  },
  {
   "cell_type": "markdown",
   "metadata": {},
   "source": [
    "#### The engine"
   ]
  },
  {
   "cell_type": "markdown",
   "metadata": {},
   "source": [
    "A task generator that will create jobs to run simulations. Currently it uses a little python script that will excute OpenMM. It required conda to be added to the PATH variable and then it works."
   ]
  },
  {
   "cell_type": "code",
   "execution_count": 4,
   "metadata": {
    "collapsed": false
   },
   "outputs": [],
   "source": [
    "pdb_file = File('file://../files/alanine/alanine.pdb')\n",
    "\n",
    "engine = OpenMMEngine(\n",
    "    pdb_file=pdb_file,\n",
    "    system_file=File('file://../files/alanine/system.xml'),\n",
    "    integrator_file=File('file://../files/alanine/integrator.xml'),\n",
    "    args='-r --report-interval 1 -p CPU --store-interval 1')"
   ]
  },
  {
   "cell_type": "markdown",
   "metadata": {},
   "source": [
    "#### The modeller"
   ]
  },
  {
   "cell_type": "markdown",
   "metadata": {},
   "source": [
    "The instance to compute an MSM model of existing trajectories. So far it will only\n",
    "use the trajectories in the current staging area.\n",
    "\n",
    "[TODO:] Add using all previous existing trajectories"
   ]
  },
  {
   "cell_type": "code",
   "execution_count": 5,
   "metadata": {
    "collapsed": false
   },
   "outputs": [],
   "source": [
    "# --------------------------------------------------------------------------\n",
    "# CREATE THE MODELLER\n",
    "#   the instance to create msm models\n",
    "# --------------------------------------------------------------------------\n",
    "modeller = PyEMMAAnalysis(\n",
    "    pdb_file=pdb_file,\n",
    "    source_folder=Directory('staging:///trajs'))"
   ]
  },
  {
   "cell_type": "markdown",
   "metadata": {},
   "source": [
    "Register (and soon store) these task generators with a name in the project for later usage"
   ]
  },
  {
   "cell_type": "code",
   "execution_count": 6,
   "metadata": {
    "collapsed": true
   },
   "outputs": [],
   "source": [
    "# add the task generating capabilities\n",
    "project.register('engine', engine)\n",
    "project.register('modeller', modeller)"
   ]
  },
  {
   "cell_type": "markdown",
   "metadata": {},
   "source": [
    "Opening a project will open the DB and create a RP session to be used"
   ]
  },
  {
   "cell_type": "code",
   "execution_count": 7,
   "metadata": {
    "collapsed": false
   },
   "outputs": [],
   "source": [
    "project.open()"
   ]
  },
  {
   "cell_type": "code",
   "execution_count": 8,
   "metadata": {
    "collapsed": true
   },
   "outputs": [],
   "source": [
    "scheduler = project.get_scheduler(cores=2)\n",
    "trajs = project.new_trajectory(pdb_file, 100, 2)\n",
    "scheduler.submit(trajs)\n",
    "scheduler.wait()\n",
    "scheduler.exit()"
   ]
  },
  {
   "cell_type": "code",
   "execution_count": 12,
   "metadata": {
    "collapsed": false
   },
   "outputs": [
    {
     "name": "stdout",
     "output_type": "stream",
     "text": [
      "<Bundle with 2 file(s) @ 0x10eb3aa10>\n"
     ]
    }
   ],
   "source": [
    "print project.files"
   ]
  },
  {
   "cell_type": "code",
   "execution_count": 61,
   "metadata": {
    "collapsed": true
   },
   "outputs": [],
   "source": [
    "def strategy():\n",
    "    # create a new scheduler\n",
    "    local_scheduler = project.get_scheduler(cores=2)\n",
    "    # run 10 trajs of length 100 in parallel\n",
    "    tasks = local_scheduler.submit(project.new_ml_trajectory(\n",
    "        length=100, number=10))\n",
    "    # continue (all tasks need to be done)\n",
    "    yield tasks.is_done()\n",
    "    # close scheduler when job is done\n",
    "    local_scheduler.exit()"
   ]
  },
  {
   "cell_type": "code",
   "execution_count": 66,
   "metadata": {
    "collapsed": true
   },
   "outputs": [],
   "source": [
    "ev = FunctionalEvent(strategy())"
   ]
  },
  {
   "cell_type": "code",
   "execution_count": 67,
   "metadata": {
    "collapsed": false
   },
   "outputs": [
    {
     "data": {
      "text/plain": [
       "<adaptivemd.event.FunctionalEvent at 0x10faf6890>"
      ]
     },
     "execution_count": 67,
     "metadata": {},
     "output_type": "execute_result"
    }
   ],
   "source": [
    "project.add_event(ev)"
   ]
  },
  {
   "cell_type": "code",
   "execution_count": 120,
   "metadata": {
    "collapsed": false
   },
   "outputs": [
    {
     "name": "stdout",
     "output_type": "stream",
     "text": [
      "# of files 52\n",
      "shared://rp.session.Stevie.fritz.box.jan-hendrikprinz.017217.0016-pilot.0001/staging_area/trajs/00000004.dcd\n",
      "shared://rp.session.Stevie.fritz.box.jan-hendrikprinz.017217.0016-pilot.0001/staging_area/trajs/00000002.dcd\n",
      "shared://rp.session.Stevie.fritz.box.jan-hendrikprinz.017217.0016-pilot.0001/staging_area/trajs/00000008.dcd\n",
      "shared://rp.session.Stevie.fritz.box.jan-hendrikprinz.017217.0016-pilot.0002/staging_area/trajs/00000015.dcd\n",
      "shared://rp.session.Stevie.fritz.box.jan-hendrikprinz.017217.0016-pilot.0004/staging_area/trajs/00000035.dcd\n",
      "shared://rp.session.Stevie.fritz.box.jan-hendrikprinz.017217.0016-pilot.0002/staging_area/trajs/00000016.dcd\n",
      "shared://rp.session.Stevie.fritz.box.jan-hendrikprinz.017217.0016-pilot.0004/staging_area/trajs/00000036.dcd\n",
      "shared://rp.session.Stevie.fritz.box.jan-hendrikprinz.017217.0016-pilot.0004/staging_area/trajs/00000037.dcd\n",
      "shared://rp.session.Stevie.fritz.box.jan-hendrikprinz.017217.0016-pilot.0005/staging_area/trajs/00000047.dcd\n",
      "shared://rp.session.Stevie.fritz.box.jan-hendrikprinz.017217.0016-pilot.0005/staging_area/trajs/00000044.dcd\n",
      "shared://rp.session.Stevie.fritz.box.jan-hendrikprinz.017217.0016-pilot.0001/staging_area/trajs/00000005.dcd\n",
      "shared://rp.session.Stevie.fritz.box.jan-hendrikprinz.017217.0016-pilot.0004/staging_area/trajs/00000041.dcd\n",
      "shared://rp.session.Stevie.fritz.box.jan-hendrikprinz.017217.0016-pilot.0005/staging_area/trajs/00000049.dcd\n",
      "shared://rp.session.Stevie.fritz.box.jan-hendrikprinz.017217.0016-pilot.0005/staging_area/trajs/00000045.dcd\n",
      "shared://rp.session.Stevie.fritz.box.jan-hendrikprinz.017217.0016-pilot.0002/staging_area/trajs/00000012.dcd\n",
      "shared://rp.session.Stevie.fritz.box.jan-hendrikprinz.017217.0016-pilot.0000/staging_area/trajs/00000000.dcd\n",
      "shared://rp.session.Stevie.fritz.box.jan-hendrikprinz.017217.0016-pilot.0002/staging_area/trajs/00000013.dcd\n",
      "shared://rp.session.Stevie.fritz.box.jan-hendrikprinz.017217.0016-pilot.0003/staging_area/trajs/00000026.dcd\n",
      "shared://rp.session.Stevie.fritz.box.jan-hendrikprinz.017217.0016-pilot.0002/staging_area/trajs/00000014.dcd\n",
      "shared://rp.session.Stevie.fritz.box.jan-hendrikprinz.017217.0016-pilot.0005/staging_area/trajs/00000046.dcd\n",
      "shared://rp.session.Stevie.fritz.box.jan-hendrikprinz.017217.0016-pilot.0003/staging_area/trajs/00000025.dcd\n",
      "shared://rp.session.Stevie.fritz.box.jan-hendrikprinz.017217.0016-pilot.0004/staging_area/trajs/00000033.dcd\n",
      "shared://rp.session.Stevie.fritz.box.jan-hendrikprinz.017217.0016-pilot.0002/staging_area/trajs/00000020.dcd\n",
      "shared://rp.session.Stevie.fritz.box.jan-hendrikprinz.017217.0016-pilot.0001/staging_area/trajs/00000006.dcd\n",
      "shared://rp.session.Stevie.fritz.box.jan-hendrikprinz.017217.0016-pilot.0003/staging_area/trajs/00000030.dcd\n",
      "shared://rp.session.Stevie.fritz.box.jan-hendrikprinz.017217.0016-pilot.0005/staging_area/trajs/00000043.dcd\n",
      "shared://rp.session.Stevie.fritz.box.jan-hendrikprinz.017217.0016-pilot.0003/staging_area/trajs/00000022.dcd\n",
      "shared://rp.session.Stevie.fritz.box.jan-hendrikprinz.017217.0016-pilot.0004/staging_area/trajs/00000039.dcd\n",
      "shared://rp.session.Stevie.fritz.box.jan-hendrikprinz.017217.0016-pilot.0003/staging_area/trajs/00000028.dcd\n",
      "shared://rp.session.Stevie.fritz.box.jan-hendrikprinz.017217.0016-pilot.0003/staging_area/trajs/00000024.dcd\n",
      "shared://rp.session.Stevie.fritz.box.jan-hendrikprinz.017217.0016-pilot.0001/staging_area/trajs/00000007.dcd\n",
      "shared://rp.session.Stevie.fritz.box.jan-hendrikprinz.017217.0016-pilot.0003/staging_area/trajs/00000027.dcd\n",
      "shared://rp.session.Stevie.fritz.box.jan-hendrikprinz.017217.0016-pilot.0004/staging_area/trajs/00000038.dcd\n",
      "shared://rp.session.Stevie.fritz.box.jan-hendrikprinz.017217.0016-pilot.0003/staging_area/trajs/00000031.dcd\n",
      "shared://rp.session.Stevie.fritz.box.jan-hendrikprinz.017217.0016-pilot.0004/staging_area/trajs/00000034.dcd\n",
      "shared://rp.session.Stevie.fritz.box.jan-hendrikprinz.017217.0016-pilot.0005/staging_area/trajs/00000050.dcd\n",
      "shared://rp.session.Stevie.fritz.box.jan-hendrikprinz.017217.0016-pilot.0004/staging_area/trajs/00000032.dcd\n",
      "shared://rp.session.Stevie.fritz.box.jan-hendrikprinz.017217.0016-pilot.0002/staging_area/trajs/00000017.dcd\n",
      "shared://rp.session.Stevie.fritz.box.jan-hendrikprinz.017217.0016-pilot.0001/staging_area/trajs/00000003.dcd\n",
      "shared://rp.session.Stevie.fritz.box.jan-hendrikprinz.017217.0016-pilot.0002/staging_area/trajs/00000018.dcd\n",
      "shared://rp.session.Stevie.fritz.box.jan-hendrikprinz.017217.0016-pilot.0005/staging_area/trajs/00000042.dcd\n",
      "shared://rp.session.Stevie.fritz.box.jan-hendrikprinz.017217.0016-pilot.0000/staging_area/trajs/00000001.dcd\n",
      "shared://rp.session.Stevie.fritz.box.jan-hendrikprinz.017217.0016-pilot.0005/staging_area/trajs/00000048.dcd\n",
      "shared://rp.session.Stevie.fritz.box.jan-hendrikprinz.017217.0016-pilot.0001/staging_area/trajs/00000009.dcd\n",
      "shared://rp.session.Stevie.fritz.box.jan-hendrikprinz.017217.0016-pilot.0003/staging_area/trajs/00000023.dcd\n",
      "shared://rp.session.Stevie.fritz.box.jan-hendrikprinz.017217.0016-pilot.0002/staging_area/trajs/00000019.dcd\n",
      "shared://rp.session.Stevie.fritz.box.jan-hendrikprinz.017217.0016-pilot.0001/staging_area/trajs/00000011.dcd\n",
      "shared://rp.session.Stevie.fritz.box.jan-hendrikprinz.017217.0016-pilot.0004/staging_area/trajs/00000040.dcd\n",
      "shared://rp.session.Stevie.fritz.box.jan-hendrikprinz.017217.0016-pilot.0001/staging_area/trajs/00000010.dcd\n",
      "shared://rp.session.Stevie.fritz.box.jan-hendrikprinz.017217.0016-pilot.0003/staging_area/trajs/00000029.dcd\n",
      "shared://rp.session.Stevie.fritz.box.jan-hendrikprinz.017217.0016-pilot.0002/staging_area/trajs/00000021.dcd\n",
      "shared://rp.session.Stevie.fritz.box.jan-hendrikprinz.017217.0016-pilot.0005/staging_area/trajs/00000051.dcd\n"
     ]
    }
   ],
   "source": [
    "print '# of files', len(project.files)\n",
    "for f in project.files:\n",
    "    print f.url"
   ]
  },
  {
   "cell_type": "code",
   "execution_count": 121,
   "metadata": {
    "collapsed": false
   },
   "outputs": [],
   "source": [
    "for e in project._events:\n",
    "    print len(e._finish_conditions)"
   ]
  },
  {
   "cell_type": "code",
   "execution_count": 122,
   "metadata": {
    "collapsed": false
   },
   "outputs": [],
   "source": [
    "project.close()"
   ]
  },
  {
   "cell_type": "markdown",
   "metadata": {},
   "source": [
    "To actually run simulations you need to have a scheduler (maybe a better name?). This instance can execute tasks or more precise you can use it to submit tasks which will be converted to ComputeUnitDescriptions and executed on the cluster previously chosen. "
   ]
  },
  {
   "cell_type": "code",
   "execution_count": 15,
   "metadata": {
    "collapsed": false
   },
   "outputs": [],
   "source": [
    "scheduler = project.get_scheduler(cores=2)"
   ]
  },
  {
   "cell_type": "markdown",
   "metadata": {},
   "source": [
    "Now we are good to go and can run a first simulation"
   ]
  },
  {
   "cell_type": "markdown",
   "metadata": {},
   "source": [
    "This works by creating a Trajectory object with a filename, a length and an initial frame. Then the engine will take this information and create a real trajectory with exactly this name, this initil frame and the given length.\n",
    "\n",
    "Since this is such a common task you can also submit just a `Trajectory` without the need tp convert it to a `Task` first (which the engine can also do)."
   ]
  },
  {
   "cell_type": "markdown",
   "metadata": {},
   "source": [
    "Out project can create new names automatically and so we want 4 new trajectories of length 100 and starting at the existing pdb_file we use to initialize the engine."
   ]
  },
  {
   "cell_type": "code",
   "execution_count": 16,
   "metadata": {
    "collapsed": true
   },
   "outputs": [],
   "source": [
    "trajs = project.new_trajectory(pdb_file, 100, 4)"
   ]
  },
  {
   "cell_type": "code",
   "execution_count": 17,
   "metadata": {
    "collapsed": false
   },
   "outputs": [],
   "source": [
    "t = engine.task_run_trajectory(trajs[0])"
   ]
  },
  {
   "cell_type": "code",
   "execution_count": 18,
   "metadata": {
    "collapsed": false
   },
   "outputs": [
    {
     "data": {
      "text/plain": [
       "[<adaptivemd.task.Task at 0x10f6b5550>]"
      ]
     },
     "execution_count": 18,
     "metadata": {},
     "output_type": "execute_result"
    }
   ],
   "source": [
    "scheduler.submit(t)"
   ]
  },
  {
   "cell_type": "code",
   "execution_count": 23,
   "metadata": {
    "collapsed": true
   },
   "outputs": [],
   "source": [
    "from adaptivemd import Trajectory"
   ]
  },
  {
   "cell_type": "code",
   "execution_count": 20,
   "metadata": {
    "collapsed": false
   },
   "outputs": [
    {
     "name": "stdout",
     "output_type": "stream",
     "text": [
      "shared://rp.session.Stevie.fritz.box.jan-hendrikprinz.017217.0007-pilot.0001/staging_area/trajs/00000000.dcd\n"
     ]
    }
   ],
   "source": [
    "for f in project.files:\n",
    "    print f"
   ]
  },
  {
   "cell_type": "code",
   "execution_count": 46,
   "metadata": {
    "collapsed": false
   },
   "outputs": [],
   "source": [
    "frame = f[17]"
   ]
  },
  {
   "cell_type": "code",
   "execution_count": 47,
   "metadata": {
    "collapsed": false
   },
   "outputs": [],
   "source": [
    "t2 = engine.task_run_trajectory(project.new_trajectory(f[17], 50))"
   ]
  },
  {
   "cell_type": "code",
   "execution_count": 48,
   "metadata": {
    "collapsed": false
   },
   "outputs": [
    {
     "data": {
      "text/plain": [
       "[<adaptivemd.task.Task at 0x10f8633d0>]"
      ]
     },
     "execution_count": 48,
     "metadata": {},
     "output_type": "execute_result"
    }
   ],
   "source": [
    "scheduler.submit(t2)"
   ]
  },
  {
   "cell_type": "markdown",
   "metadata": {},
   "source": [
    "Once the trajectories exist these objects will be saved to the database. It might be a little confusing to have objects before they exist, but this way you can actually work with these trajectories like referencing even before they exist.\n",
    "\n",
    "This would allow to write now a function that triggers when the trajectory comes into existance. But we are not doing this right now."
   ]
  },
  {
   "cell_type": "markdown",
   "metadata": {},
   "source": [
    "Let's submit and see"
   ]
  },
  {
   "cell_type": "code",
   "execution_count": 13,
   "metadata": {
    "collapsed": false
   },
   "outputs": [
    {
     "data": {
      "text/plain": [
       "[Trajectory('alanine.pdb' >> 00000000.dcd[0..100]),\n",
       " Trajectory('alanine.pdb' >> 00000001.dcd[0..100]),\n",
       " Trajectory('alanine.pdb' >> 00000002.dcd[0..100]),\n",
       " Trajectory('alanine.pdb' >> 00000003.dcd[0..100])]"
      ]
     },
     "execution_count": 13,
     "metadata": {},
     "output_type": "execute_result"
    }
   ],
   "source": [
    "trajs"
   ]
  },
  {
   "cell_type": "code",
   "execution_count": 31,
   "metadata": {
    "collapsed": false
   },
   "outputs": [
    {
     "data": {
      "text/plain": [
       "{'engine': <adaptivemd.engine.OpenMMEngine at 0x10ed46e90>,\n",
       " 'modeller': <adaptivemd.analysis.PyEMMAAnalysis at 0x1069f58d0>}"
      ]
     },
     "execution_count": 31,
     "metadata": {},
     "output_type": "execute_result"
    }
   ],
   "source": [
    "scheduler.generators"
   ]
  },
  {
   "cell_type": "code",
   "execution_count": 14,
   "metadata": {
    "collapsed": false
   },
   "outputs": [
    {
     "data": {
      "text/plain": [
       "[<adaptivemd.task.Task at 0x10f825210>,\n",
       " <adaptivemd.task.Task at 0x10f825750>,\n",
       " <adaptivemd.task.Task at 0x10f825990>,\n",
       " <adaptivemd.task.Task at 0x10f825d50>]"
      ]
     },
     "execution_count": 14,
     "metadata": {},
     "output_type": "execute_result"
    }
   ],
   "source": [
    "# submit the trajectories\n",
    "scheduler.submit(trajs)"
   ]
  },
  {
   "cell_type": "markdown",
   "metadata": {},
   "source": [
    "Wait is dangerous since it is blocking and you cannot do anything until all tasks are finished. Normally you do not need it. Especially in interactive sessions."
   ]
  },
  {
   "cell_type": "code",
   "execution_count": 12,
   "metadata": {
    "collapsed": false
   },
   "outputs": [],
   "source": [
    "scheduler.wait()"
   ]
  },
  {
   "cell_type": "markdown",
   "metadata": {},
   "source": [
    "Look at all the files our project now contains."
   ]
  },
  {
   "cell_type": "code",
   "execution_count": 58,
   "metadata": {
    "collapsed": false
   },
   "outputs": [
    {
     "name": "stdout",
     "output_type": "stream",
     "text": [
      "shared://rp.session.Stevie.fritz.box.jan-hendrikprinz.017217.0003-pilot.0000/staging_area/trajs/00000010.dcd\n",
      "shared://rp.session.Stevie.fritz.box.jan-hendrikprinz.017217.0003-pilot.0000/staging_area/trajs/00000004.dcd\n",
      "shared://rp.session.Stevie.fritz.box.jan-hendrikprinz.017217.0003-pilot.0000/staging_area/trajs/00000003.dcd\n",
      "shared://rp.session.Stevie.fritz.box.jan-hendrikprinz.017217.0003-pilot.0000/staging_area/trajs/00000007.dcd\n",
      "shared://rp.session.Stevie.fritz.box.jan-hendrikprinz.017217.0003-pilot.0000/staging_area/trajs/00000001.dcd\n",
      "shared://rp.session.Stevie.fritz.box.jan-hendrikprinz.017217.0003-pilot.0000/staging_area/trajs/00000011.dcd\n",
      "shared://rp.session.Stevie.fritz.box.jan-hendrikprinz.017217.0003-pilot.0000/staging_area/trajs/00000000.dcd\n",
      "shared://rp.session.Stevie.fritz.box.jan-hendrikprinz.017217.0003-pilot.0000/staging_area/trajs/00000002.dcd\n",
      "shared://rp.session.Stevie.fritz.box.jan-hendrikprinz.017217.0003-pilot.0000/staging_area/trajs/00000009.dcd\n",
      "shared://rp.session.Stevie.fritz.box.jan-hendrikprinz.017217.0003-pilot.0000/staging_area/trajs/00000008.dcd\n",
      "shared://rp.session.Stevie.fritz.box.jan-hendrikprinz.017217.0003-pilot.0000/staging_area/trajs/00000012.dcd\n",
      "DONE!!!\n"
     ]
    }
   ],
   "source": [
    "for f in project.files:\n",
    "    print f.url"
   ]
  },
  {
   "cell_type": "markdown",
   "metadata": {},
   "source": [
    "Great! That was easy (I hope you agree). "
   ]
  },
  {
   "cell_type": "markdown",
   "metadata": {},
   "source": [
    "#### Events"
   ]
  },
  {
   "cell_type": "markdown",
   "metadata": {},
   "source": [
    "A new concept. Tasks are great and do work for us. But so far we needed to submit tasks ourselves. In adaptive simulations we want this to happen automatically. To help with some of this events exist. This are basically a task_generator coupled with conditions on when to be executed."
   ]
  },
  {
   "cell_type": "markdown",
   "metadata": {},
   "source": [
    "Let's write a little task generator (in essence a function that returns tasks)"
   ]
  },
  {
   "cell_type": "code",
   "execution_count": 51,
   "metadata": {
    "collapsed": true
   },
   "outputs": [],
   "source": [
    "def task_generator():\n",
    "    return [\n",
    "        engine.task_run_trajectory(traj) for traj in\n",
    "        project.new_ml_trajectory(100, 2)]"
   ]
  },
  {
   "cell_type": "code",
   "execution_count": 52,
   "metadata": {
    "collapsed": false
   },
   "outputs": [
    {
     "data": {
      "text/plain": [
       "[<adaptivemd.task.Task at 0x10f863990>, <adaptivemd.task.Task at 0x10f843c90>]"
      ]
     },
     "execution_count": 52,
     "metadata": {},
     "output_type": "execute_result"
    }
   ],
   "source": [
    "task_generator()"
   ]
  },
  {
   "cell_type": "markdown",
   "metadata": {},
   "source": [
    "Now create an event."
   ]
  },
  {
   "cell_type": "code",
   "execution_count": 53,
   "metadata": {
    "collapsed": false
   },
   "outputs": [],
   "source": [
    "ev = Event().on(project.on_ntraj(range(4, 12, 2))).do(task_generator)"
   ]
  },
  {
   "cell_type": "markdown",
   "metadata": {},
   "source": [
    "`.on` specifies when something should be executed. In our case when the project has a number of trajectories (ntraj) of being one of `range(4, 24, 2)` which is `[4, 6, 8, 10, ...]`\n",
    "\n",
    "`.do` specifies the function to be called.\n",
    "\n",
    "The concept is borrowed from event based languages like often used in JavaScript. \n",
    "\n",
    "You can build quite complex execution patterns with this. An event for example also knows when it is finished and this can be used as another trigger."
   ]
  },
  {
   "cell_type": "code",
   "execution_count": 54,
   "metadata": {
    "collapsed": false
   },
   "outputs": [],
   "source": [
    "def hello():\n",
    "    print 'DONE!!!'\n",
    "    return []  # todo: allow for None here\n",
    "\n",
    "finished = Event().on(ev.on_tasks_finished()).do(hello)"
   ]
  },
  {
   "cell_type": "code",
   "execution_count": 55,
   "metadata": {
    "collapsed": false
   },
   "outputs": [
    {
     "data": {
      "text/plain": [
       "<adaptivemd.event.Event at 0x10f7f3310>"
      ]
     },
     "execution_count": 55,
     "metadata": {},
     "output_type": "execute_result"
    }
   ],
   "source": [
    "scheduler.add_event(ev)\n",
    "scheduler.add_event(finished)"
   ]
  },
  {
   "cell_type": "markdown",
   "metadata": {},
   "source": [
    "All events and tasks run parallel or at least get submitted and queue for execution in parallel. RP takes care of the actual execution."
   ]
  },
  {
   "cell_type": "markdown",
   "metadata": {},
   "source": [
    "So for now lets run more trajectories and schedule computation of models in regular intervals."
   ]
  },
  {
   "cell_type": "code",
   "execution_count": 74,
   "metadata": {
    "collapsed": false
   },
   "outputs": [
    {
     "data": {
      "text/plain": [
       "<adaptivemd.event.Event at 0x10f8c7f90>"
      ]
     },
     "execution_count": 74,
     "metadata": {},
     "output_type": "execute_result"
    }
   ],
   "source": [
    "scheduler.add_event(\n",
    "    Event().on(project.on_ntraj(range(4, 50, 2))).do(task_generator)\n",
    ")\n",
    "scheduler.add_event(\n",
    "    Event()\n",
    "    .on(project.on_ntraj(10))\n",
    "    .do(modeller.task_run_msm)\n",
    "    .repeat().until(project.on_ntraj(20)))  # todo: change that this will stop when the first event is done"
   ]
  },
  {
   "cell_type": "code",
   "execution_count": 77,
   "metadata": {
    "collapsed": false
   },
   "outputs": [
    {
     "data": {
      "text/plain": [
       "{u'C': [[157.0, 0.0, 23.0, 17.0, 10.0],\n",
       "  [0.0, 162.0, 16.0, 2.0, 2.0],\n",
       "  [28.0, 18.0, 300.0, 21.0, 16.0],\n",
       "  [12.0, 2.0, 24.0, 211.0, 0.0],\n",
       "  [12.0, 2.0, 24.0, 0.0, 361.0]],\n",
       " u'P': [[0.7584541057287958,\n",
       "   0.0,\n",
       "   0.12391141040631883,\n",
       "   0.07223079655322646,\n",
       "   0.045403687311658954],\n",
       "  [0.0,\n",
       "   0.8901098831651435,\n",
       "   0.09007097537774184,\n",
       "   0.010874420491472532,\n",
       "   0.008944720965642172],\n",
       "  [0.06618887201079533,\n",
       "   0.04597149430974188,\n",
       "   0.7832898157767418,\n",
       "   0.060232583164306,\n",
       "   0.044317234738415014],\n",
       "  [0.056418574445790015,\n",
       "   0.008115885323985233,\n",
       "   0.08807598595491802,\n",
       "   0.8473895542753067,\n",
       "   0.0],\n",
       "  [0.031582548442256775,\n",
       "   0.005945014516373964,\n",
       "   0.05771052446733235,\n",
       "   0.0,\n",
       "   0.9047619125740369]],\n",
       " u'lagtime': 2}"
      ]
     },
     "execution_count": 77,
     "metadata": {},
     "output_type": "execute_result"
    }
   ],
   "source": [
    "project.models[0]['msm']"
   ]
  },
  {
   "cell_type": "code",
   "execution_count": 72,
   "metadata": {
    "collapsed": true
   },
   "outputs": [],
   "source": [
    "bedingung = project.on_ntraj(10)"
   ]
  },
  {
   "cell_type": "code",
   "execution_count": 73,
   "metadata": {
    "collapsed": false
   },
   "outputs": [
    {
     "name": "stdout",
     "output_type": "stream",
     "text": [
      "True\n"
     ]
    }
   ],
   "source": [
    "if bedingung():\n",
    "    print 'True'"
   ]
  },
  {
   "cell_type": "code",
   "execution_count": 71,
   "metadata": {
    "collapsed": false
   },
   "outputs": [
    {
     "data": {
      "text/plain": [
       "13"
      ]
     },
     "execution_count": 71,
     "metadata": {},
     "output_type": "execute_result"
    }
   ],
   "source": [
    "len(project.trajectories)"
   ]
  },
  {
   "cell_type": "markdown",
   "metadata": {},
   "source": [
    "`.repeat` means to redo the same task when the last is finished (it will just append an infinite list of conditions to keep on running).\n",
    "\n",
    "`.until` specifies a termination condition. The event will not be executed once this condition is met. Makes most sense if you use `.repeat` or if the trigger condition and stopping should be independent. You might say, run 100 times unless you have a good enough model. "
   ]
  },
  {
   "cell_type": "code",
   "execution_count": 34,
   "metadata": {
    "collapsed": false
   },
   "outputs": [
    {
     "name": "stdout",
     "output_type": "stream",
     "text": [
      "<Bundle with 20 file(s) @ 0x1065c8b50>\n"
     ]
    }
   ],
   "source": [
    "print project.files"
   ]
  },
  {
   "cell_type": "code",
   "execution_count": 58,
   "metadata": {
    "collapsed": false
   },
   "outputs": [],
   "source": [
    "scheduler.wait()"
   ]
  },
  {
   "cell_type": "code",
   "execution_count": 61,
   "metadata": {
    "collapsed": true
   },
   "outputs": [],
   "source": [
    "from adaptivemd import FunctionalEvent"
   ]
  },
  {
   "cell_type": "code",
   "execution_count": 59,
   "metadata": {
    "collapsed": true
   },
   "outputs": [],
   "source": [
    "def strategy():\n",
    "    # create a new scheduler\n",
    "    local_scheduler = project.get_scheduler(cores=2)\n",
    "    # run 10 trajs of length 100 in parallel\n",
    "    tasks = scheduler.submit(project.new_ml_trajectory(\n",
    "        length=100, number=10))\n",
    "    # wait until this is finished and specify a condition on when to\n",
    "    # continue (all tasks need to be done)\n",
    "    yield [t.is_done for t in tasks]\n",
    "    # close scheduler when job is done\n",
    "    local_scheduler.exit()\n",
    "    # yield a condition on when to be done. Nothing since we are\n",
    "    # done already\n",
    "    yield []"
   ]
  },
  {
   "cell_type": "code",
   "execution_count": 63,
   "metadata": {
    "collapsed": false
   },
   "outputs": [
    {
     "data": {
      "text/plain": [
       "<adaptivemd.event.FunctionalEvent at 0x10f843b10>"
      ]
     },
     "execution_count": 63,
     "metadata": {},
     "output_type": "execute_result"
    }
   ],
   "source": [
    "scheduler.add_event(FunctionalEvent(strategy))"
   ]
  },
  {
   "cell_type": "code",
   "execution_count": 71,
   "metadata": {
    "collapsed": false
   },
   "outputs": [
    {
     "data": {
      "text/plain": [
       "<adaptivemd.event.FunctionalEvent at 0x10f843490>"
      ]
     },
     "execution_count": 71,
     "metadata": {},
     "output_type": "execute_result"
    }
   ],
   "source": [
    "scheduler.add_event(FunctionalEvent(strategy))"
   ]
  },
  {
   "cell_type": "code",
   "execution_count": 73,
   "metadata": {
    "collapsed": false
   },
   "outputs": [
    {
     "data": {
      "text/plain": [
       "[]"
      ]
     },
     "execution_count": 73,
     "metadata": {},
     "output_type": "execute_result"
    }
   ],
   "source": [
    "scheduler._events"
   ]
  },
  {
   "cell_type": "code",
   "execution_count": 74,
   "metadata": {
    "collapsed": true
   },
   "outputs": [],
   "source": [
    "ev = FunctionalEvent(strategy)"
   ]
  },
  {
   "cell_type": "code",
   "execution_count": 76,
   "metadata": {
    "collapsed": false
   },
   "outputs": [],
   "source": [
    "ev._current_when"
   ]
  },
  {
   "cell_type": "code",
   "execution_count": 68,
   "metadata": {
    "collapsed": false
   },
   "outputs": [
    {
     "data": {
      "text/plain": [
       "{<adaptivemd.scheduler.Scheduler at 0x10f70dc10>}"
      ]
     },
     "execution_count": 68,
     "metadata": {},
     "output_type": "execute_result"
    }
   ],
   "source": [
    "project.schedulers"
   ]
  },
  {
   "cell_type": "code",
   "execution_count": 60,
   "metadata": {
    "collapsed": false
   },
   "outputs": [
    {
     "name": "stdout",
     "output_type": "stream",
     "text": [
      "<Bundle with 50 file(s) @ 0x1065c8b50>\n",
      "5\n"
     ]
    }
   ],
   "source": [
    "print project.files\n",
    "print len(project.models)"
   ]
  },
  {
   "cell_type": "markdown",
   "metadata": {},
   "source": [
    "### The brain"
   ]
  },
  {
   "cell_type": "markdown",
   "metadata": {},
   "source": [
    "The brain is just a collection of events. This makes it reuseable and easy to extend."
   ]
  },
  {
   "cell_type": "code",
   "execution_count": 77,
   "metadata": {
    "collapsed": false
   },
   "outputs": [],
   "source": [
    "project.close()"
   ]
  },
  {
   "cell_type": "code",
   "execution_count": null,
   "metadata": {
    "collapsed": true
   },
   "outputs": [],
   "source": []
  }
 ],
 "metadata": {
  "anaconda-cloud": {},
  "kernelspec": {
   "display_name": "Python [default]",
   "language": "python",
   "name": "python2"
  },
  "language_info": {
   "codemirror_mode": {
    "name": "ipython",
    "version": 2
   },
   "file_extension": ".py",
   "mimetype": "text/x-python",
   "name": "python",
   "nbconvert_exporter": "python",
   "pygments_lexer": "ipython2",
   "version": "2.7.9"
  }
 },
 "nbformat": 4,
 "nbformat_minor": 1
}
